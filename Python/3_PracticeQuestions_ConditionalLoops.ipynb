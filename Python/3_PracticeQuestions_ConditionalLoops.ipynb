{
  "nbformat": 4,
  "nbformat_minor": 0,
  "metadata": {
    "colab": {
      "provenance": [],
      "include_colab_link": true
    },
    "kernelspec": {
      "name": "python3",
      "display_name": "Python 3"
    },
    "language_info": {
      "name": "python"
    }
  },
  "cells": [
    {
      "cell_type": "markdown",
      "metadata": {
        "id": "view-in-github",
        "colab_type": "text"
      },
      "source": [
        "<a href=\"https://colab.research.google.com/github/salonee/MSinDS_Aug2024-2025/blob/main/Chapter_2%7CConditionalLoops%7CPractice_Questions.ipynb\" target=\"_parent\"><img src=\"https://colab.research.google.com/assets/colab-badge.svg\" alt=\"Open In Colab\"/></a>"
      ]
    },
    {
      "cell_type": "code",
      "source": [
        "'''\n",
        "Question 1:  Inventory Restocking Alert\n",
        "\n",
        "Case Study: Inventory Management with Dynamic Restocking and Sales Prediction\n",
        "Scenario:\n",
        "A retail shop manages its product inventory. Each product has a stock quantity and a restock threshold.\n",
        "The goal is to simulate stock depletion over several days and generate restock alerts.\n",
        "\n",
        "\n",
        "Problem:\n",
        "Write a Python program to check the stock levels of products and generate a list of those that need restocking.\n",
        "A product should be flagged if its stock falls below its restock threshold.\n",
        "\n",
        "Requirements:\n",
        "\n",
        "Use a for loop to iterate over the inventory.\n",
        "Use an if statement to check if the product’s stock is below the restock threshold.\n",
        "Print the list of products that need restocking.\n",
        "Example:\n",
        "\n",
        "inventory = [\n",
        "   {\"product\": \"Apples\", \"quantity\": 8, \"restock_threshold\": 10},\n",
        "   {\"product\": \"Bananas\", \"quantity\": 25, \"restock_threshold\": 20},\n",
        "   {\"product\": \"Oranges\", \"quantity\": 5, \"restock_threshold\": 10}\n",
        "]\n",
        "\n",
        "Expected Output:\n",
        "\n",
        "Apples need restocking.\n",
        "Oranges need restocking.\n",
        "\n",
        "'''\n",
        "inventory = [\n",
        "   {\"product\": \"Apples\", \"quantity\": 8, \"restock_threshold\": 10},\n",
        "   {\"product\": \"Bananas\", \"quantity\": 25, \"restock_threshold\": 20},\n",
        "   {\"product\": \"Oranges\", \"quantity\": 5, \"restock_threshold\": 10}\n",
        "]\n",
        "\n",
        "# type(inventory) #-->list\n",
        "# type(inventory[0]) # --> dict\n",
        "\n",
        "for i in inventory:\n",
        "  # print(i)\n",
        "  if i['quantity'] < i['restock_threshold'] :\n",
        "    print(f\"{i['product']} need restocking\")\n",
        "\n",
        "# i = {\"product\": \"Apples\", \"quantity\": 8, \"restock_threshold\": 10}\n",
        "# ??\n"
      ],
      "metadata": {
        "id": "ORsm3269s0Cc",
        "colab": {
          "base_uri": "https://localhost:8080/"
        },
        "outputId": "17a72db1-be48-48dc-9803-2f450079a639"
      },
      "execution_count": null,
      "outputs": [
        {
          "output_type": "stream",
          "name": "stdout",
          "text": [
            "Apples need restocking\n",
            "Oranges need restocking\n"
          ]
        }
      ]
    },
    {
      "cell_type": "code",
      "source": [
        "# i.get('product')"
      ],
      "metadata": {
        "colab": {
          "base_uri": "https://localhost:8080/",
          "height": 35
        },
        "id": "BWY7zIvuoUoB",
        "outputId": "c8f0d786-e02f-41b6-8499-e195811e0102"
      },
      "execution_count": null,
      "outputs": [
        {
          "output_type": "execute_result",
          "data": {
            "text/plain": [
              "'Oranges'"
            ],
            "application/vnd.google.colaboratory.intrinsic+json": {
              "type": "string"
            }
          },
          "metadata": {},
          "execution_count": 9
        }
      ]
    },
    {
      "cell_type": "code",
      "source": [
        "'''\n",
        "Question 2 -\n",
        "User Authentication System with Limited Login Attempts\n",
        "Problem:\n",
        "Design a user authentication system where a user has a maximum of 3 login attempts.\n",
        "The system should prompt the user to input their username and password. If the credentials are correct, display a success message and exit the loop. If the credentials are incorrect, decrement the number of remaining attempts and inform the user. After 3 failed attempts, the system should lock the user out.\n",
        "\n",
        "Requirements:\n",
        "\n",
        "Use a while loop to allow the user to attempt login up to 3 times.\n",
        "Use an if-else condition to check if the username and password are correct.\n",
        "If the correct credentials are entered, break the loop and display a success message.\n",
        "After 3 incorrect attempts, display a message indicating the account is locked.\n",
        "\n",
        "Expected Output (sample):\n",
        "\n",
        "Enter username: user123\n",
        "Enter password: wrongpass\n",
        "Incorrect credentials. You have 2 attempts remaining.\n",
        "\n",
        "Enter username: user123\n",
        "Enter password: wrongpass\n",
        "Incorrect credentials. You have 1 attempt remaining.\n",
        "\n",
        "Enter username: user123\n",
        "Enter password: wrongpass\n",
        "Account locked due to too many failed login attempts.\n",
        "\n",
        "'''\n",
        "correct_username = \"user123\"\n",
        "correct_password = \"pass123\"\n",
        "max_attempts = 3\n",
        "attempts = 0\n",
        "\n",
        "# Solution:\n",
        "while attempts < max_attempts:\n",
        "    username = input(\"Enter username: \")\n",
        "    password = input(\"Enter password: \")\n",
        "    # Write your code here\n",
        "    if username == correct_username and password == correct_password:\n",
        "      print('Login Successful')\n",
        "      break\n",
        "    else:\n",
        "      attempts += 1\n",
        "      print(f\"Incorrect credentials. You have {max_attempts - attempts} attempt remaining.\")\n",
        "\n",
        "    if attempts == max_attempts:\n",
        "      print('You have exhausted the attempt limits, account blocked!')\n"
      ],
      "metadata": {
        "id": "F1L-Rjk0tCJ3",
        "colab": {
          "base_uri": "https://localhost:8080/"
        },
        "outputId": "397e3ddc-a5f4-45c7-ab33-e674adbca3e6"
      },
      "execution_count": null,
      "outputs": [
        {
          "output_type": "stream",
          "name": "stdout",
          "text": [
            "Enter username: user123\n",
            "Enter password: pass123\n",
            "Login Successful\n"
          ]
        }
      ]
    },
    {
      "cell_type": "code",
      "source": [
        "'''\n",
        "Question 3 :\n",
        "Problem:\n",
        "The Collatz Conjecture is a sequence that starts with any positive integer n.\n",
        "Each subsequent term is obtained from the previous term as follows:\n",
        "\n",
        "If the previous term is even, the next term is one half of the previous term.\n",
        "If the previous term is odd, the next term is 3 times the previous term plus 1.\n",
        "The conjecture is that no matter what value of n, the sequence will eventually reach 1.\n",
        "Write a Python program that takes a positive integer n as input and prints the Collatz sequence starting from n until it reaches 1.\n",
        "\n",
        "Requirements:\n",
        "\n",
        "Use a while loop to generate and print the Collatz sequence.\n",
        "Use if-else conditions to apply the Collatz rules.\n",
        "\n",
        "Expected Output (sample):\n",
        "\n",
        "Enter a positive integer: 6\n",
        "6 -> 3 -> 10 -> 5 -> 16 -> 8 -> 4 -> 2 -> 1\n",
        "\n",
        "Hint : Use print(n, end = '->') in the logic to get the output\n",
        "'''\n",
        "n  = int(input())\n",
        "\n",
        "while n !=1:\n",
        "  print(n, end = '->')\n",
        "\n",
        "  if n % 2 ==0:\n",
        "    n = round(n /2) # n //2 , Floor division??\n",
        "  else:\n",
        "    n = n * 3 + 1\n",
        "\n",
        "print(n)\n",
        "\n",
        "\n",
        "\n",
        "\n"
      ],
      "metadata": {
        "colab": {
          "base_uri": "https://localhost:8080/"
        },
        "id": "XGFSGcucuY9u",
        "outputId": "a398a7f0-8c4d-48b8-db73-307f9f923c56"
      },
      "execution_count": null,
      "outputs": [
        {
          "output_type": "stream",
          "name": "stdout",
          "text": [
            "6\n",
            "6->3->10->5->16->8->4->2->1\n"
          ]
        }
      ]
    },
    {
      "cell_type": "code",
      "source": [
        "# 4//2"
      ],
      "metadata": {
        "colab": {
          "base_uri": "https://localhost:8080/"
        },
        "id": "MD6EAlUMscBk",
        "outputId": "6d7dbb80-0f93-4039-b320-af2dfa3c3336"
      },
      "execution_count": null,
      "outputs": [
        {
          "output_type": "execute_result",
          "data": {
            "text/plain": [
              "2"
            ]
          },
          "metadata": {},
          "execution_count": 18
        }
      ]
    },
    {
      "cell_type": "code",
      "source": [
        "for i in range(15):\n",
        "  print(i, end = '->')"
      ],
      "metadata": {
        "id": "MhYTIhYCv7pD",
        "colab": {
          "base_uri": "https://localhost:8080/"
        },
        "outputId": "35b33d5c-b671-4471-a306-c6b0c67c606a"
      },
      "execution_count": null,
      "outputs": [
        {
          "output_type": "stream",
          "name": "stdout",
          "text": [
            "0->1->2->3->4->5->6->7->8->9->10->11->12->13->14->"
          ]
        }
      ]
    },
    {
      "cell_type": "code",
      "source": [
        "# \\n --> new line\n",
        "# \\t --> Tab space"
      ],
      "metadata": {
        "id": "sW6IbfpVr74v"
      },
      "execution_count": null,
      "outputs": []
    }
  ]
}
