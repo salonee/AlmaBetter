{
  "nbformat": 4,
  "nbformat_minor": 0,
  "metadata": {
    "colab": {
      "provenance": [],
      "include_colab_link": true
    },
    "kernelspec": {
      "name": "python3",
      "display_name": "Python 3"
    },
    "language_info": {
      "name": "python"
    }
  },
  "cells": [
    {
      "cell_type": "markdown",
      "metadata": {
        "id": "view-in-github",
        "colab_type": "text"
      },
      "source": [
        "<a href=\"https://colab.research.google.com/github/salonee/AlmaBetter/blob/main/Conditional_Looping_%7C_Alok_%7C_2nd_Oct.ipynb\" target=\"_parent\"><img src=\"https://colab.research.google.com/assets/colab-badge.svg\" alt=\"Open In Colab\"/></a>"
      ]
    },
    {
      "cell_type": "code",
      "execution_count": null,
      "metadata": {
        "id": "TzN1hjn54Bxp"
      },
      "outputs": [],
      "source": [
        "# For vs While Loop\n",
        "# For : Start and end is defined\n",
        "# While :  Start is defined , end is conditional # Condition determines the number of loop"
      ]
    },
    {
      "cell_type": "code",
      "source": [
        "ex = [2,4,5,6,7,7]\n",
        "for i in ex: # 6 iterations\n",
        "  pass"
      ],
      "metadata": {
        "id": "Zjst-P9s5TdX"
      },
      "execution_count": null,
      "outputs": []
    },
    {
      "cell_type": "code",
      "source": [
        "# Example\n",
        "play = input('Do you want to play ? (Y/N) ')\n",
        "\n",
        "while play == 'Y': # True # False\n",
        "  print('Good Game!')\n",
        "  play = input('Do you want to continue playing? (Y/N)')"
      ],
      "metadata": {
        "id": "fMPzKMrD6wX7",
        "colab": {
          "base_uri": "https://localhost:8080/"
        },
        "outputId": "6ce48f83-9351-4450-95ac-c85beef909ca"
      },
      "execution_count": null,
      "outputs": [
        {
          "name": "stdout",
          "output_type": "stream",
          "text": [
            "Do you want to play ? (Y/N)Y\n",
            "Good Game!\n",
            "Do you want to continue playing? (Y/N)Y\n",
            "Good Game!\n",
            "Do you want to continue playing? (Y/N)Y\n",
            "Good Game!\n",
            "Do you want to continue playing? (Y/N)N\n"
          ]
        }
      ]
    },
    {
      "cell_type": "code",
      "source": [
        "# For loop\n",
        "play = input('Do you want to play ? (Y/N) ')\n",
        "\n",
        "for _ in range(0,10000000000):\n",
        "  if play == 'Y':\n",
        "    print('Good Game!')\n",
        "    play = input('Do you want to continue playing? (Y/N)')\n",
        "  else:\n",
        "    break"
      ],
      "metadata": {
        "colab": {
          "base_uri": "https://localhost:8080/"
        },
        "id": "zygEWwIeTgHx",
        "outputId": "3e0e4998-4cb1-44ac-de32-e31f1fa77508"
      },
      "execution_count": null,
      "outputs": [
        {
          "name": "stdout",
          "output_type": "stream",
          "text": [
            "Do you want to play ? (Y/N) Y\n",
            "Good Game!\n",
            "Do you want to continue playing? (Y/N)Y\n",
            "Good Game!\n",
            "Do you want to continue playing? (Y/N)Y\n",
            "Good Game!\n",
            "Do you want to continue playing? (Y/N)N\n"
          ]
        }
      ]
    },
    {
      "cell_type": "code",
      "source": [
        "# All questions which you have solved using For loop can be solved using while loop, but not vice versa"
      ],
      "metadata": {
        "id": "yUPdlE9Q5gDF"
      },
      "execution_count": null,
      "outputs": []
    },
    {
      "cell_type": "code",
      "source": [
        "# For Loop :\n",
        "ex = ['pepperoni','mushrooms', 'olives', 'sausage']\n",
        "# print all elements\n",
        "for i in ex:\n",
        "  print(i)"
      ],
      "metadata": {
        "colab": {
          "base_uri": "https://localhost:8080/"
        },
        "id": "FgHy4VDwRd3C",
        "outputId": "4f430cfc-123d-457c-988f-77438f52d332"
      },
      "execution_count": null,
      "outputs": [
        {
          "output_type": "stream",
          "name": "stdout",
          "text": [
            "pepperoni\n",
            "mushrooms\n",
            "olives\n",
            "sausage\n"
          ]
        }
      ]
    },
    {
      "cell_type": "code",
      "source": [
        "# While loop\n",
        "# 3 components : Start, Condition & Stopper\n",
        "ex = ['pepperoni','mushrooms', 'olives', 'sausage']\n",
        "\n",
        "# print all elements\n",
        "i = 0 # Start\n",
        "\n",
        "while i < len(ex): # Condition 0 < 4 : True\n",
        "  print(ex[i]) # ex[0]\n",
        "  i = i + 1 # Stopper\n",
        "\n",
        "\n",
        "# Iterations\n",
        "# I1 : i = 0\n",
        "# i < len(ex)  | True | 0 < 4\n",
        "# print(ex[0]) | pepperoni\n",
        "# i = i + 1 | 0 + 1 = 1\n",
        "\n",
        "# I2 : i = 1\n",
        "# i < len(ex) | True | 1< 4\n",
        "# print(ex[1]) | mushrooms\n",
        "# i = i + 1 | 1 +1 = 2\n",
        "\n",
        "# I3 : i = 2\n",
        "# i < len(ex) | True | 2< 4\n",
        "# print(ex[2]) | olives\n",
        "# i = i + 1 | 2 +1 = 3\n",
        "\n",
        "# I4 : i = 3\n",
        "# i < len(ex) | True | 3< 4\n",
        "# print(ex[3]) | sausage\n",
        "# i = i + 1 | 3 +1 = 4\n",
        "\n",
        "# I5 : i = 4\n",
        "# i < len(ex) | 4 < 4 | False\n",
        "# While loop has stopped running\n"
      ],
      "metadata": {
        "id": "Xtr_iBiF5u-g",
        "colab": {
          "base_uri": "https://localhost:8080/"
        },
        "outputId": "1ae41013-4f05-4314-8e17-2de3be96226f"
      },
      "execution_count": null,
      "outputs": [
        {
          "output_type": "stream",
          "name": "stdout",
          "text": [
            "pepperoni\n",
            "mushrooms\n",
            "olives\n",
            "sausage\n"
          ]
        }
      ]
    },
    {
      "cell_type": "code",
      "source": [
        "# concept of break and continue"
      ],
      "metadata": {
        "id": "p4NM1zsq69rx"
      },
      "execution_count": null,
      "outputs": []
    },
    {
      "cell_type": "code",
      "source": [
        "# while loop to print numbers from 1 to 10,\n",
        "# but the loop will stop when the number 5 is reached.\n",
        "\n",
        "n = 1 # Start\n",
        "while n <= 10: # Condition\n",
        "  print(n)\n",
        "  if n == 5:\n",
        "    break\n",
        "  n = n+1 # Stopper\n",
        "\n",
        "\n",
        "\n",
        "# Once break is executed, whole while loop will terminate\n"
      ],
      "metadata": {
        "id": "PJ-sbyJjb1Dt",
        "colab": {
          "base_uri": "https://localhost:8080/"
        },
        "outputId": "012cef05-fe3d-408e-9d46-46fbd22b6452"
      },
      "execution_count": null,
      "outputs": [
        {
          "output_type": "stream",
          "name": "stdout",
          "text": [
            "1\n",
            "2\n",
            "3\n",
            "4\n",
            "5\n"
          ]
        }
      ]
    },
    {
      "cell_type": "code",
      "source": [
        "# use a while loop to print numbers from 1 to 10, but we'll skip printing the number 5\n",
        "count = 1 # Start\n",
        "\n",
        "while count <= 10: # Condition\n",
        "  if count == 5:\n",
        "    count = count + 1 # Stop\n",
        "    continue\n",
        "  print(count)\n",
        "  count += 1 # Stop\n",
        "\n",
        "\n",
        "\n",
        "# while loop with continue can be a dangerous combination : Don't use it."
      ],
      "metadata": {
        "id": "4Pdk5u3hb4Lu",
        "colab": {
          "base_uri": "https://localhost:8080/"
        },
        "outputId": "9cbd55ed-ac35-4689-e733-4f3828d540e5"
      },
      "execution_count": null,
      "outputs": [
        {
          "output_type": "stream",
          "name": "stdout",
          "text": [
            "1\n",
            "2\n",
            "3\n",
            "4\n",
            "6\n",
            "7\n",
            "8\n",
            "9\n",
            "10\n"
          ]
        }
      ]
    },
    {
      "cell_type": "code",
      "source": [],
      "metadata": {
        "colab": {
          "base_uri": "https://localhost:8080/"
        },
        "id": "WiiRgwe0W7tO",
        "outputId": "8ff5eb6e-283b-4d3e-bcf8-3a2d5b3fe30a"
      },
      "execution_count": null,
      "outputs": [
        {
          "output_type": "stream",
          "name": "stdout",
          "text": [
            "1\n",
            "2\n",
            "3\n",
            "4\n",
            "6\n",
            "7\n",
            "8\n",
            "9\n",
            "10\n"
          ]
        }
      ]
    },
    {
      "cell_type": "code",
      "source": [
        "# Issue of Infinite looping"
      ],
      "metadata": {
        "id": "tDjf-P7Jfr9v"
      },
      "execution_count": null,
      "outputs": []
    },
    {
      "cell_type": "code",
      "source": [
        "# All questions solved by for loop and can be solved using while but not vice versa.\n",
        "# Use of while -- 5- 10 % of the questions"
      ],
      "metadata": {
        "id": "ps6C385TXyXo"
      },
      "execution_count": null,
      "outputs": []
    },
    {
      "cell_type": "markdown",
      "source": [
        "#### Practice"
      ],
      "metadata": {
        "id": "sQd8Xk9xbhxW"
      }
    },
    {
      "cell_type": "code",
      "source": [
        "#Question 1\n",
        "'''\n",
        "Question 1: Sum of First N Natural Numbers\n",
        "Description: Write a Python program that takes a positive integer n as input\n",
        "and uses a while loop to calculate the sum of the first n natural numbers.\n",
        "\n",
        "'''\n",
        "\n",
        "# Sum of n natural numbers\n",
        "# For loop\n",
        "n = int(input('Enter the number:'))\n",
        "if n < 1:\n",
        "  print('Enter the positive number > 0')\n",
        "else:\n",
        "  _total = 0\n",
        "\n",
        "  for i in range(1,n+1):\n",
        "    _total = _total + i\n",
        "\n",
        "  print(_total)\n",
        "\n"
      ],
      "metadata": {
        "id": "aKyW_i2Sbf2K",
        "colab": {
          "base_uri": "https://localhost:8080/"
        },
        "outputId": "5ea58ad8-3e2b-468a-837b-47d38ae3b010"
      },
      "execution_count": null,
      "outputs": [
        {
          "output_type": "stream",
          "name": "stdout",
          "text": [
            "Enter the number:3\n",
            "6\n"
          ]
        }
      ]
    },
    {
      "cell_type": "code",
      "source": [
        "# While\n",
        "n = int(input('Enter the number:'))\n",
        "_total = 0\n",
        "i = 1 # Start\n",
        "while i <= n: # Condition\n",
        "  _total += i\n",
        "  i += 1 # Stop\n",
        "print(_total)\n"
      ],
      "metadata": {
        "colab": {
          "base_uri": "https://localhost:8080/"
        },
        "id": "bYer2ZU7YKzs",
        "outputId": "88920dd2-4201-46d8-83af-cb336c37c74c"
      },
      "execution_count": null,
      "outputs": [
        {
          "output_type": "stream",
          "name": "stdout",
          "text": [
            "Enter the number:10\n",
            "55\n"
          ]
        }
      ]
    },
    {
      "cell_type": "code",
      "source": [
        "# List --> sum of even numbers\n",
        "\n",
        "_list = eval(input('Enter the list:'))\n",
        "_total = 0\n",
        "for i in _list:\n",
        "  if i % 2 ==0:\n",
        "    _total += i\n",
        "print(_total)"
      ],
      "metadata": {
        "colab": {
          "base_uri": "https://localhost:8080/"
        },
        "id": "1bmXXcHPaw0d",
        "outputId": "d98d2adc-b06a-40d9-b1d6-ab5cfb6d2f7c"
      },
      "execution_count": null,
      "outputs": [
        {
          "output_type": "stream",
          "name": "stdout",
          "text": [
            "Enter the list:[2,4,5,7,8]\n",
            "14\n"
          ]
        }
      ]
    },
    {
      "cell_type": "code",
      "source": [
        "# While\n",
        "_list = eval(input('Enter the list:'))\n",
        "_total = 0\n",
        "i = 0 # Start\n",
        "while i < len(_list): # Condition\n",
        "  if _list[i] % 2 ==0: # _list\n",
        "    _total += _list[i]\n",
        "  i += 1 # Stopper\n",
        "print(_total)"
      ],
      "metadata": {
        "colab": {
          "base_uri": "https://localhost:8080/"
        },
        "id": "6anXa3bRa4V4",
        "outputId": "d08ffa2e-00fe-4b1e-8945-c31a4650222a"
      },
      "execution_count": null,
      "outputs": [
        {
          "output_type": "stream",
          "name": "stdout",
          "text": [
            "Enter the list:[2,4,5,7,8]\n",
            "14\n"
          ]
        }
      ]
    },
    {
      "cell_type": "code",
      "source": [
        "# Question 2\n",
        "'''\n",
        "Write the code to remove one specific elements from a list.\n",
        "'''\n",
        "_list = [4, 5, 5, 6, 6, 7, 7, 7, 8, 9, 10, 10]\n",
        "_no_to_remove = 7\n",
        "\n",
        "while _no_to_remove in _list:\n",
        "  _list.remove(_no_to_remove)\n",
        "\n",
        "print(_list)"
      ],
      "metadata": {
        "id": "tddyP8gJbmUw",
        "colab": {
          "base_uri": "https://localhost:8080/"
        },
        "outputId": "2febb4a3-e1f4-429e-e943-8f97ff60de3a"
      },
      "execution_count": null,
      "outputs": [
        {
          "output_type": "stream",
          "name": "stdout",
          "text": [
            "[4, 5, 5, 6, 6, 8, 9, 10, 10]\n"
          ]
        }
      ]
    },
    {
      "cell_type": "code",
      "source": [
        "# 'Data Science' : Slicing\n",
        "# 2, 5, 7, 9 == 'tSin'\n",
        "#[2,5,7,9]\n",
        "\n",
        "_str = 'Data Science'\n",
        "_custom_index = [2,5,7,9]\n",
        "_out = ''\n",
        "\n",
        "for i in _custom_index:\n",
        "  _out += _str[i]\n",
        "\n",
        "print(_out) # Custom Slicing"
      ],
      "metadata": {
        "colab": {
          "base_uri": "https://localhost:8080/"
        },
        "id": "MeQ1vzREdSCp",
        "outputId": "f287f232-7972-411a-fff1-6638d017605f"
      },
      "execution_count": null,
      "outputs": [
        {
          "output_type": "stream",
          "name": "stdout",
          "text": [
            "tSin\n"
          ]
        }
      ]
    },
    {
      "cell_type": "code",
      "source": [
        "# Question 3\n",
        "'''\n",
        "Find the Factorial of a Number\n",
        "Description: Write a Python program that takes a\n",
        "positive integer n as input and uses a while loop to calculate its factorial.\n",
        "0! = 1\n",
        "1! = 1\n",
        "2! = 2\n",
        "3! = 6\n",
        "4! = 24\n",
        "5! = 120 (5*4*3*2*1 || 1*2*3*4*5)\n",
        "'''\n",
        "n=int(input('Enter the number to calculate the factorial(n!):'))\n",
        "fact=1\n",
        "for i in range(1,n+1):\n",
        "  fact=fact*i\n",
        "print(fact)\n",
        "\n"
      ],
      "metadata": {
        "id": "tEIYOYpjcz0Z",
        "colab": {
          "base_uri": "https://localhost:8080/"
        },
        "outputId": "94072cab-9139-458e-c9ef-e50695f39003"
      },
      "execution_count": null,
      "outputs": [
        {
          "output_type": "stream",
          "name": "stdout",
          "text": [
            "Enter the number to calculate the factorial(n!):1\n",
            "1\n"
          ]
        }
      ]
    },
    {
      "cell_type": "code",
      "source": [
        "n=int(input('Enter the number to calculate the factorial(n!):')) # 0\n",
        "fact=1\n",
        "i = 1\n",
        "while i <= n: # 1<=0 # False\n",
        "  fact *= i\n",
        "  i += 1\n",
        "print(fact)"
      ],
      "metadata": {
        "colab": {
          "base_uri": "https://localhost:8080/"
        },
        "id": "3nMo53W_eVvD",
        "outputId": "138f1563-b159-4ab0-dea9-7a1537c3762c"
      },
      "execution_count": null,
      "outputs": [
        {
          "output_type": "stream",
          "name": "stdout",
          "text": [
            "Enter the number to calculate the factorial(n!):5\n",
            "120\n"
          ]
        }
      ]
    },
    {
      "cell_type": "code",
      "source": [
        "# Question 4 (Hard)\n",
        "'''\n",
        "Write a Python code\n",
        "that takes a positive integer n as input.\n",
        "The output should repeatedly sum the digits of n until a single-digit number is obtained.\n",
        "If the resulting single-digit number is 7, the output should print \"Thala for a reason\".\n",
        "Otherwise, it should return the single-digit number.\n",
        "Input -- 1234 --> 1+2+3+4 -- > 10 --> 1+ 0 --> 1\n",
        "# Single digit is equal to 7 : Thala for a reason\n",
        "'''\n",
        "\n",
        "n = int(input('Enter the number: ')) # 1234\n",
        "n_str = str(n) # '1234'\n",
        "\n",
        "while len(n_str) > 1:\n",
        "  _total = 0\n",
        "  for i in n_str:\n",
        "    _total += int(i)\n",
        "\n",
        "  n_str = str(_total)\n",
        "\n",
        "if int(n_str) ==7:\n",
        "  print('Thala for a reason')\n",
        "else:\n",
        "  print(int(n_str))\n",
        "\n",
        "\n",
        "\n",
        "# Iterations n = 1234\n",
        "# I1 : len('1234')> 1 : True\n",
        "# _total = 0\n",
        "# for i in n_str: # '1234'\n",
        "#   _total += int(i) #\n",
        "# _total : 10\n",
        "# n_str = '10'\n",
        "\n",
        "# I2 : len('10') > 1 : True\n",
        "# _total = 0\n",
        "# for i in n_str: # '10'\n",
        "#   _total += int(i) #\n",
        "# _total = 1\n",
        "# n_str = '1'\n",
        "# I3 : len('1') > 1 :False | 1> 1\n",
        "# No further iteration\n",
        "\n"
      ],
      "metadata": {
        "id": "PQne4qhndWpA",
        "colab": {
          "base_uri": "https://localhost:8080/"
        },
        "outputId": "8ace9078-5b7f-423a-fb5c-5eb7838bed55"
      },
      "execution_count": null,
      "outputs": [
        {
          "output_type": "stream",
          "name": "stdout",
          "text": [
            "Enter the number: 700\n",
            "Thala for a reason\n"
          ]
        }
      ]
    },
    {
      "cell_type": "code",
      "source": [],
      "metadata": {
        "id": "CygxVk4pfMuD"
      },
      "execution_count": null,
      "outputs": []
    },
    {
      "cell_type": "markdown",
      "source": [
        "#### Self Practice (3 Questions + 3 Questions present on dasboard)"
      ],
      "metadata": {
        "id": "zgs9ueiodA4E"
      }
    },
    {
      "cell_type": "code",
      "source": [
        "# Question 1: (Easy)\n",
        "'''\n",
        "Sum of Even Numbers\n",
        "Description: Write a Python program that takes a positive integer n as input\n",
        "and uses a while loop to calculate the sum of all even numbers from 1 to n.\n",
        "Example:\n",
        "\n",
        "Input: n = 10\n",
        "Output: Sum of even numbers = 30 (since 2 + 4 + 6 + 8 + 10 = 30)\n",
        "'''\n",
        "n = int(input('Enter the number:'))\n",
        "_sum_even = 0\n",
        "\n",
        "for i in range(1,n+1):\n",
        "  if i % 2==0:\n",
        "    _sum_even += i\n",
        "print(_sum_even)\n"
      ],
      "metadata": {
        "id": "Hp3pZFQKc5e2",
        "colab": {
          "base_uri": "https://localhost:8080/"
        },
        "outputId": "3cdbb7cc-d645-464c-deaa-a46bf8c60cb9"
      },
      "execution_count": null,
      "outputs": [
        {
          "output_type": "stream",
          "name": "stdout",
          "text": [
            "Enter the number:10\n",
            "30\n"
          ]
        }
      ]
    },
    {
      "cell_type": "code",
      "source": [
        "n = int(input('Enter the number:'))\n",
        "_sum_even = 0\n",
        "i = 1\n",
        "while i <=n:\n",
        "  if i % 2==0:\n",
        "    _sum_even += i\n",
        "    # i += 1\n",
        "    # continue\n",
        "  i += 1\n",
        "print(_sum_even)"
      ],
      "metadata": {
        "colab": {
          "base_uri": "https://localhost:8080/"
        },
        "id": "EyCqttkwrgk3",
        "outputId": "e7964c31-03f1-440b-831f-bc6b7167b44f"
      },
      "execution_count": null,
      "outputs": [
        {
          "output_type": "stream",
          "name": "stdout",
          "text": [
            "Enter the number:10\n",
            "30\n"
          ]
        }
      ]
    },
    {
      "cell_type": "code",
      "source": [
        "# Question 2: (Easy)\n",
        "'''\n",
        "Count Vowels in a String\n",
        "Description: Write a Python program that takes a string as input\n",
        "and uses a while loop to count the number of vowels (a, e, i, o, u) in the string.\n",
        "Ignore the case of the characters.\n",
        "Example:\n",
        "\n",
        "Input: string = \"Hello World\"\n",
        "Output: Number of vowels = 3 (since 'e', 'o', and 'o' are vowels)\n",
        "'''\n",
        "_word = input('Enter the word:')\n",
        "_count_vowel = 0\n",
        "i = 0\n",
        "while i < len(_word):\n",
        "  if _word[i].lower() in 'aeiou':\n",
        "    _count_vowel+= 1\n",
        "  i += 1\n",
        "\n",
        "print(_count_vowel)\n",
        "\n",
        "\n"
      ],
      "metadata": {
        "id": "V8J3Ed10dpCJ",
        "colab": {
          "base_uri": "https://localhost:8080/"
        },
        "outputId": "28b46495-193e-4bb0-cd02-9b20de321147"
      },
      "execution_count": null,
      "outputs": [
        {
          "output_type": "stream",
          "name": "stdout",
          "text": [
            "Enter the word:AlmaBetter\n",
            "4\n"
          ]
        }
      ]
    },
    {
      "cell_type": "code",
      "source": [
        "# Question 3 (Hard)\n",
        "'''\n",
        "Find the Greatest Common Divisor (GCD) / HCF (Highest common factor)\n",
        "Description: Write a Python program that takes two positive integers as input and\n",
        "uses a while loop to find their greatest common divisor (GCD) using the Euclidean algorithm.\n",
        "\n",
        "Example:\n",
        "\n",
        "Input: a = 48, b = 18\n",
        "Output: GCD = 6\n",
        "'''\n",
        "\n",
        "divisor = int(input('Enter the Divisor:'))\n",
        "dividend = int(input('Enter the Dividend:'))\n",
        "\n",
        "for i in range(divisor, 0, -1):\n",
        "  if divisor % i ==0 and dividend % i ==0 :\n",
        "    gcd = i\n",
        "    break\n",
        "\n",
        "print(gcd)\n",
        "\n"
      ],
      "metadata": {
        "id": "w5Dg3REGdxE_",
        "colab": {
          "base_uri": "https://localhost:8080/"
        },
        "outputId": "ba6bb432-68fd-4fa0-9823-2b36762a20c8"
      },
      "execution_count": null,
      "outputs": [
        {
          "output_type": "stream",
          "name": "stdout",
          "text": [
            "Enter the Divisor:18\n",
            "Enter the Dividend:48\n",
            "6\n"
          ]
        }
      ]
    },
    {
      "cell_type": "code",
      "source": [
        "divisor = int(input('Enter the Divisor:'))\n",
        "dividend = int(input('Enter the Dividend:'))\n",
        "gcd = []\n",
        "for i in range(1, divisor + 1):\n",
        "  if divisor % i ==0 and dividend % i ==0 :\n",
        "    gcd.append(i)\n",
        "\n",
        "print(max(gcd)) # print(gcd[-1])\n"
      ],
      "metadata": {
        "colab": {
          "base_uri": "https://localhost:8080/"
        },
        "id": "fKp8gUcTv5yq",
        "outputId": "14219600-7d86-4173-cf9c-179be762a97c"
      },
      "execution_count": null,
      "outputs": [
        {
          "output_type": "stream",
          "name": "stdout",
          "text": [
            "Enter the Divisor:4000\n",
            "Enter the Dividend:5000500\n",
            "500\n"
          ]
        }
      ]
    },
    {
      "cell_type": "code",
      "source": [
        "divisor = 10\n",
        "list(range(divisor, 0, -1))"
      ],
      "metadata": {
        "colab": {
          "base_uri": "https://localhost:8080/"
        },
        "id": "bqP5Sp1DM8ZH",
        "outputId": "4d95c307-3c49-46a4-a286-363eebb4af9e"
      },
      "execution_count": null,
      "outputs": [
        {
          "output_type": "execute_result",
          "data": {
            "text/plain": [
              "[10, 9, 8, 7, 6, 5, 4, 3, 2, 1]"
            ]
          },
          "metadata": {},
          "execution_count": 22
        }
      ]
    },
    {
      "cell_type": "code",
      "source": [
        "# Optimised way of solving\n",
        "divisor = int(input('Enter the Divisor:')) # 18\n",
        "dividend = int(input('Enter the Dividend:')) # 48\n",
        "remainder = dividend% divisor #12\n",
        "\n",
        "while remainder!=0:\n",
        "  dividend = divisor\n",
        "  divisor = remainder\n",
        "  remainder = dividend % divisor\n",
        "  print(f'Dividend : {dividend}, Divisor : {divisor}')\n",
        "print(divisor)\n",
        "\n",
        "# iterations\n",
        "# I1 : remainder = 12 !=0 | True\n",
        "# dividend = 18\n",
        "# Divisor = 12\n",
        "# remainder = 18 % 12 = 6\n",
        "\n",
        "# I2 : remainder = 6 !=0 | true\n",
        "# Dividend = 12\n",
        "# divisor = 6\n",
        "# Remainer 12 % 6 = 0\n",
        "\n",
        "# I3 : remainder = 0 !=0 | False\n",
        "# No further iteration\n",
        "\n"
      ],
      "metadata": {
        "colab": {
          "base_uri": "https://localhost:8080/"
        },
        "id": "bL2E5yxxNRLO",
        "outputId": "07cd07fa-f775-4021-aebc-9727a35ca7e6"
      },
      "execution_count": null,
      "outputs": [
        {
          "output_type": "stream",
          "name": "stdout",
          "text": [
            "Enter the Divisor:18\n",
            "Enter the Dividend:48\n",
            "Dividend : 18, Divisor : 12\n",
            "Dividend : 12, Divisor : 6\n",
            "6\n"
          ]
        }
      ]
    },
    {
      "cell_type": "code",
      "source": [
        "4# Swapping the value without using third variable\n",
        "a= 6\n",
        "b = 10\n",
        "\n",
        "# Swap the value of a & b | third variable\n",
        "c = a\n",
        "a = b\n",
        "b = c\n",
        "\n",
        "print(a)\n",
        "print(b)"
      ],
      "metadata": {
        "colab": {
          "base_uri": "https://localhost:8080/"
        },
        "id": "aagBJsSdybqH",
        "outputId": "9bf2c123-6fcf-474e-a86a-f6b87553b473"
      },
      "execution_count": null,
      "outputs": [
        {
          "output_type": "stream",
          "name": "stdout",
          "text": [
            "10\n",
            "6\n"
          ]
        }
      ]
    },
    {
      "cell_type": "code",
      "source": [
        "a= 6\n",
        "b = 10\n",
        "a,b = b,a # a is assigned value of b, b is assigned the previous value of a\n",
        "# c = a\n",
        "# a = b\n",
        "# b = c\n",
        "print(a)\n",
        "print(b)"
      ],
      "metadata": {
        "colab": {
          "base_uri": "https://localhost:8080/"
        },
        "id": "JwtGGgD7zSjS",
        "outputId": "5181f6cb-89a6-4b73-d523-1a3f1ae67eff"
      },
      "execution_count": null,
      "outputs": [
        {
          "output_type": "stream",
          "name": "stdout",
          "text": [
            "10\n",
            "6\n"
          ]
        }
      ]
    },
    {
      "cell_type": "code",
      "source": [
        "while remainder!=0:\n",
        "  dividend = divisor\n",
        "  divisor = remainder\n",
        "  remainder = dividend % divisor\n",
        "\n",
        "print(divisor)"
      ],
      "metadata": {
        "id": "RZKyQKzd0EUm"
      },
      "execution_count": null,
      "outputs": []
    },
    {
      "cell_type": "code",
      "source": [
        "divisor = int(input('Enter the Divisor:')) # 18\n",
        "dividend = int(input('Enter the Dividend:')) # 48\n",
        "\n",
        "while divisor !=0:\n",
        "  divisor, dividend = dividend % divisor, divisor\n",
        "  print(f'Dividend : {dividend}, Divisor : {divisor}')\n",
        "# print(dividend)"
      ],
      "metadata": {
        "colab": {
          "base_uri": "https://localhost:8080/"
        },
        "id": "4WOklajUzyuZ",
        "outputId": "139e1b60-9f70-4edc-c44e-b872371c593b"
      },
      "execution_count": null,
      "outputs": [
        {
          "output_type": "stream",
          "name": "stdout",
          "text": [
            "Enter the Divisor:18\n",
            "Enter the Dividend:48\n",
            "Dividend : 18, Divisor : 12\n",
            "Dividend : 12, Divisor : 6\n",
            "Dividend : 6, Divisor : 0\n"
          ]
        }
      ]
    },
    {
      "cell_type": "code",
      "source": [
        "4"
      ],
      "metadata": {
        "id": "34u58Lq20Y1y"
      },
      "execution_count": null,
      "outputs": []
    }
  ]
}
