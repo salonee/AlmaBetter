{
  "nbformat": 4,
  "nbformat_minor": 0,
  "metadata": {
    "colab": {
      "provenance": [],
      "include_colab_link": true
    },
    "kernelspec": {
      "name": "python3",
      "display_name": "Python 3"
    },
    "language_info": {
      "name": "python"
    }
  },
  "cells": [
    {
      "cell_type": "markdown",
      "metadata": {
        "id": "view-in-github",
        "colab_type": "text"
      },
      "source": [
        "<a href=\"https://colab.research.google.com/github/salonee/MSinDS_Aug2024-2025/blob/main/Custom_Functions.ipynb\" target=\"_parent\"><img src=\"https://colab.research.google.com/assets/colab-badge.svg\" alt=\"Open In Colab\"/></a>"
      ]
    },
    {
      "cell_type": "code",
      "execution_count": null,
      "metadata": {
        "id": "NGijcSZO16sp"
      },
      "outputs": [],
      "source": [
        "# Function :\n",
        "# Set of Instructions written as input and output format.\n",
        "# print, input, sum,len,type,max, min, eval,int, avg, float, zip, enumerate, sorted\n",
        "# In built functions : Already created for you to use."
      ]
    },
    {
      "cell_type": "code",
      "source": [
        "print(input)# Function\n",
        "variable.method_name(input) # Method\n",
        "# methods are functions inside the class."
      ],
      "metadata": {
        "id": "5eGras5g2rsp"
      },
      "execution_count": null,
      "outputs": []
    },
    {
      "cell_type": "code",
      "source": [
        "'''\n",
        "What is a Function in Python?\n",
        "Definition: A function is a block of organized, reusable code that is used to perform a single, related action.\n",
        "Functions provide better modularity for your application and a high degree of code reusability.\n",
        "Why Use Functions: They help break down complex problems into simpler pieces, avoid repetition of code,\n",
        "and make the code more readable and maintainable.\n",
        "\n",
        "'''"
      ],
      "metadata": {
        "id": "-NACs7sbF9Zs"
      },
      "execution_count": null,
      "outputs": []
    },
    {
      "cell_type": "code",
      "source": [
        "def factorial(n):\n",
        "  fact = 1\n",
        "  for i in range(1,n+1):\n",
        "    fact*=i\n",
        "  return fact"
      ],
      "metadata": {
        "id": "-q0UJzPn6xSH"
      },
      "execution_count": null,
      "outputs": []
    },
    {
      "cell_type": "code",
      "source": [
        "factorial(n = 5) # 120"
      ],
      "metadata": {
        "colab": {
          "base_uri": "https://localhost:8080/"
        },
        "id": "XCA7QGxV6698",
        "outputId": "006d5208-59f2-4d98-d6f8-e98b0b5256ea"
      },
      "execution_count": null,
      "outputs": [
        {
          "output_type": "execute_result",
          "data": {
            "text/plain": [
              "120"
            ]
          },
          "metadata": {},
          "execution_count": 3
        }
      ]
    },
    {
      "cell_type": "code",
      "source": [
        "# permutation of n,r\n",
        "# Permutation n!/ (n-r)!\n",
        "n = int(input())\n",
        "r = int(input())\n",
        "print(factorial(n)/ factorial(n-r))"
      ],
      "metadata": {
        "colab": {
          "base_uri": "https://localhost:8080/"
        },
        "id": "JhggQMUa7Lch",
        "outputId": "f5ddf812-0e3d-4fb2-fa95-c5d4836ebdc0"
      },
      "execution_count": null,
      "outputs": [
        {
          "output_type": "stream",
          "name": "stdout",
          "text": [
            "5\n",
            "2\n",
            "20.0\n"
          ]
        }
      ]
    },
    {
      "cell_type": "code",
      "source": [
        "# 1 + 1/2! + 1/3! + 1/4! ...1/n!\n",
        "n = int(input())\n",
        "_total = 0\n",
        "for i in range(1,n+1):\n",
        "  _total += 1/ (factorial(i))\n",
        "\n",
        "print(_total)"
      ],
      "metadata": {
        "colab": {
          "base_uri": "https://localhost:8080/"
        },
        "id": "nNcXxfo97mOz",
        "outputId": "81cd16c7-b014-41d6-ab51-55395103b672"
      },
      "execution_count": null,
      "outputs": [
        {
          "output_type": "stream",
          "name": "stdout",
          "text": [
            "3\n",
            "1.6666666666666667\n"
          ]
        }
      ]
    },
    {
      "cell_type": "code",
      "source": [
        "# Syntax\n",
        "\n",
        "def function_name(parameters = \"Default Parameter Value\"):\n",
        "  \"\"\"\n",
        "  Docstring\n",
        "\n",
        "  \"\"\"\n",
        "\n",
        "    # function code goes here | logic\n",
        "\n",
        "  return output_value\n",
        "\n",
        "\n",
        "\n",
        "# def: This keyword indicates the start of a function definition. It stands for \"define\"\n",
        "# Function_name: This is the name of the function you are defining.\n",
        "\n",
        "# Parameters: These are the input values that the function will take. They are optional, and you can have as many or as few as you need.\n",
        "\n",
        "\n",
        "# Default Parameter Value : If a value is not provided when calling a function, this value will be used instead.\n",
        "\n",
        "# Docstring : A docstring is a string literal that appears as the first statement in a module, function, class, or method definition. Its purpose is to provide documentation for the code and to describe what the function does, what arguments it takes, and what it returns.\n",
        "\n",
        "# Function code : This is the code that gets executed when the function is called. It can be any valid Python code.\n",
        "\n",
        "# return: This keyword indicates the value that the function will return. This is also optional, and you can have multiple return statements in a function."
      ],
      "metadata": {
        "id": "y7WWI6ys2uIm"
      },
      "execution_count": null,
      "outputs": []
    },
    {
      "cell_type": "code",
      "source": [
        "# Example --\n",
        "num = int(input('Enter the number: '))\n",
        "if num >= 0:\n",
        "    if num == 0:\n",
        "        print(\"Zero\")\n",
        "    else:\n",
        "        print(\"Positive Number\")\n",
        "else:\n",
        "    print(\"Negative Number\")"
      ],
      "metadata": {
        "colab": {
          "base_uri": "https://localhost:8080/"
        },
        "id": "6bXHkQ7Vwv5u",
        "outputId": "0f49066b-c7bb-41c2-f7c0-49b35434f887"
      },
      "execution_count": null,
      "outputs": [
        {
          "output_type": "stream",
          "name": "stdout",
          "text": [
            "Enter the number: 4\n",
            "Positive Number\n"
          ]
        }
      ]
    },
    {
      "cell_type": "code",
      "source": [
        "# As a function\n",
        "def pos_neg_check(num):\n",
        "  if num >= 0:\n",
        "    if num == 0:\n",
        "        print(\"Zero\")\n",
        "    else:\n",
        "        print(\"Positive Number\")\n",
        "  else:\n",
        "      print(\"Negative Number\")\n"
      ],
      "metadata": {
        "id": "dEILa4sXw-sy"
      },
      "execution_count": null,
      "outputs": []
    },
    {
      "cell_type": "code",
      "source": [
        "pos_neg_check(num = 0)"
      ],
      "metadata": {
        "colab": {
          "base_uri": "https://localhost:8080/"
        },
        "id": "L252K1VB8r6s",
        "outputId": "915856d9-bad3-45fc-9c7b-9f1e57a8cf99"
      },
      "execution_count": null,
      "outputs": [
        {
          "output_type": "stream",
          "name": "stdout",
          "text": [
            "Zero\n"
          ]
        }
      ]
    },
    {
      "cell_type": "code",
      "source": [
        "pos_neg_check(num = -1)"
      ],
      "metadata": {
        "colab": {
          "base_uri": "https://localhost:8080/"
        },
        "id": "WD4TX2AG8yOM",
        "outputId": "21a93888-87d9-4757-c586-e785619947ce"
      },
      "execution_count": null,
      "outputs": [
        {
          "output_type": "stream",
          "name": "stdout",
          "text": [
            "Negative Number\n"
          ]
        }
      ]
    },
    {
      "cell_type": "markdown",
      "source": [
        "#### Defining a Function"
      ],
      "metadata": {
        "id": "mUOi3Hq4F5oi"
      }
    },
    {
      "cell_type": "code",
      "source": [
        "# Part 1: Defining the function | Creating the machine\n",
        "def greet():\n",
        "  print('Hello World!')\n",
        "\n",
        "\n",
        "# Part 2: using the function | Calling the function\n",
        "greet()"
      ],
      "metadata": {
        "colab": {
          "base_uri": "https://localhost:8080/"
        },
        "id": "ZiAn9fbWCJtL",
        "outputId": "1429b967-43c0-42c9-904e-6d1504746d37"
      },
      "execution_count": null,
      "outputs": [
        {
          "output_type": "stream",
          "name": "stdout",
          "text": [
            "Hello World!\n"
          ]
        }
      ]
    },
    {
      "cell_type": "code",
      "source": [
        "greet()"
      ],
      "metadata": {
        "colab": {
          "base_uri": "https://localhost:8080/"
        },
        "id": "CvOHHgp-9iaO",
        "outputId": "99760d04-e875-4606-e106-e6bd7aceb68c"
      },
      "execution_count": null,
      "outputs": [
        {
          "output_type": "stream",
          "name": "stdout",
          "text": [
            "Hello World!\n"
          ]
        }
      ]
    },
    {
      "cell_type": "code",
      "source": [
        "# Define a function named greet_python that prints \"Hello, Python!\" three times.\n",
        "# Defined the function\n",
        "\n",
        "def greet_python():\n",
        "  print('Hello World ' * 3)"
      ],
      "metadata": {
        "id": "T7FmEch_GNH7"
      },
      "execution_count": null,
      "outputs": []
    },
    {
      "cell_type": "code",
      "source": [
        "# Call the function / use it.\n",
        "greet_python()"
      ],
      "metadata": {
        "colab": {
          "base_uri": "https://localhost:8080/"
        },
        "id": "C_6OJrEj9wwM",
        "outputId": "f0aed811-b5a6-4d59-c537-435077e05df7"
      },
      "execution_count": null,
      "outputs": [
        {
          "output_type": "stream",
          "name": "stdout",
          "text": [
            "Hello World Hello World Hello World \n"
          ]
        }
      ]
    },
    {
      "cell_type": "markdown",
      "source": [
        "#### Function with Parameters"
      ],
      "metadata": {
        "id": "hMrT_S7fGYyP"
      }
    },
    {
      "cell_type": "code",
      "source": [
        "# Purpose: Parameters allow you to pass information into the function.\n",
        "# They are specified inside the parentheses of the function definition."
      ],
      "metadata": {
        "id": "YQHkJEHoGfzO"
      },
      "execution_count": null,
      "outputs": []
    },
    {
      "cell_type": "code",
      "source": [
        "# Define the function\n",
        "def greet(name):\n",
        "  print(f'Hello, {name}!')\n"
      ],
      "metadata": {
        "id": "z1e0dJjwGjTd"
      },
      "execution_count": null,
      "outputs": []
    },
    {
      "cell_type": "code",
      "source": [
        "# use it\n",
        "greet(name = 'Alok')"
      ],
      "metadata": {
        "colab": {
          "base_uri": "https://localhost:8080/"
        },
        "id": "De439t2B-NGm",
        "outputId": "b58c11b5-f838-4ec1-fc1e-19df2f203bc2"
      },
      "execution_count": null,
      "outputs": [
        {
          "output_type": "stream",
          "name": "stdout",
          "text": [
            "Hello, Alok!\n"
          ]
        }
      ]
    },
    {
      "cell_type": "code",
      "source": [
        "greet('zyx')"
      ],
      "metadata": {
        "colab": {
          "base_uri": "https://localhost:8080/"
        },
        "id": "EeG88uDa_HEW",
        "outputId": "c3f3bab4-2fee-4f36-b3bb-7318ecf9f916"
      },
      "execution_count": null,
      "outputs": [
        {
          "output_type": "stream",
          "name": "stdout",
          "text": [
            "Hello, zyx!\n"
          ]
        }
      ]
    },
    {
      "cell_type": "code",
      "source": [
        "# Equivalent to\n",
        "name  = input()\n",
        "print(f\"Hello, {name}\")"
      ],
      "metadata": {
        "colab": {
          "base_uri": "https://localhost:8080/"
        },
        "id": "hQNFqwfc0ksn",
        "outputId": "6ec36edc-8989-4f20-ace5-b9d835bd2ea8"
      },
      "execution_count": null,
      "outputs": [
        {
          "output_type": "stream",
          "name": "stdout",
          "text": [
            "Alok\n",
            "Hello, Alok\n"
          ]
        }
      ]
    },
    {
      "cell_type": "code",
      "source": [
        "# Define it\n",
        "def threetimes(n):\n",
        "  print('hello' * n)"
      ],
      "metadata": {
        "id": "cd5v2rsQ-xbY"
      },
      "execution_count": null,
      "outputs": []
    },
    {
      "cell_type": "code",
      "source": [
        "# using it/ Calling it\n",
        "n = int(input())\n",
        "threetimes(n)"
      ],
      "metadata": {
        "colab": {
          "base_uri": "https://localhost:8080/"
        },
        "id": "2TryBunq-hgx",
        "outputId": "cd136a4b-1d45-4317-bd35-39a3e31e2101"
      },
      "execution_count": null,
      "outputs": [
        {
          "output_type": "stream",
          "name": "stdout",
          "text": [
            "4\n",
            "hellohellohellohello\n"
          ]
        }
      ]
    },
    {
      "cell_type": "code",
      "source": [
        "# Create a function called add_numbers that takes two numbers as arguments/parameters and prints their sum.\n",
        "# Defined the function\n",
        "\n",
        "def add_numbers(a,b):\n",
        "  c = a+b\n",
        "  print(c)"
      ],
      "metadata": {
        "id": "8wqgaYRCGq0s"
      },
      "execution_count": null,
      "outputs": []
    },
    {
      "cell_type": "code",
      "source": [
        "add_numbers(2,3)"
      ],
      "metadata": {
        "colab": {
          "base_uri": "https://localhost:8080/"
        },
        "id": "onFW1Sou_VZY",
        "outputId": "00b9310e-7e34-43e6-947d-23bb36c6442a"
      },
      "execution_count": null,
      "outputs": [
        {
          "output_type": "stream",
          "name": "stdout",
          "text": [
            "5\n"
          ]
        }
      ]
    },
    {
      "cell_type": "code",
      "source": [
        "# What if we don't provide enough parameters?\n",
        "x = int(input())\n",
        "y = int(input())\n",
        "add_numbers(a = x,b = y)"
      ],
      "metadata": {
        "colab": {
          "base_uri": "https://localhost:8080/"
        },
        "id": "qunVgYJK1ios",
        "outputId": "f036a0bf-dd01-47d4-86d3-f06a8f4982ac"
      },
      "execution_count": null,
      "outputs": [
        {
          "output_type": "stream",
          "name": "stdout",
          "text": [
            "3\n",
            "6\n",
            "9\n"
          ]
        }
      ]
    },
    {
      "cell_type": "code",
      "source": [
        "# Define a function named multiply that takes two parameters, a and b, and returns their product.\n",
        "# Defining the function\n",
        "def multiply(a,b):\n",
        "  c = a * b\n",
        "  print(c)\n"
      ],
      "metadata": {
        "id": "vrYQFJpSGqqB"
      },
      "execution_count": null,
      "outputs": []
    },
    {
      "cell_type": "code",
      "source": [
        "a = int(input())\n",
        "b = int(input())\n",
        "multiply(a,b)"
      ],
      "metadata": {
        "colab": {
          "base_uri": "https://localhost:8080/"
        },
        "id": "0dTuRNDXAZKu",
        "outputId": "9710d1c2-3177-4f93-df5e-f7e50000e7ac"
      },
      "execution_count": null,
      "outputs": [
        {
          "output_type": "stream",
          "name": "stdout",
          "text": [
            "5\n",
            "4\n",
            "20\n"
          ]
        }
      ]
    },
    {
      "cell_type": "markdown",
      "source": [
        "#### Returning Values from a Function"
      ],
      "metadata": {
        "id": "hDxhj4K4GvJg"
      }
    },
    {
      "cell_type": "code",
      "source": [
        "# Purpose: Use the return statement to send a result back to the caller."
      ],
      "metadata": {
        "id": "yBOMjO_OG1Bd"
      },
      "execution_count": null,
      "outputs": []
    },
    {
      "cell_type": "code",
      "source": [
        "# print vs return"
      ],
      "metadata": {
        "id": "IHOb2Up22ePz"
      },
      "execution_count": null,
      "outputs": []
    },
    {
      "cell_type": "code",
      "source": [
        "def add_print(a,b):\n",
        "  print(a+b)"
      ],
      "metadata": {
        "id": "M-KPmk2KG47v"
      },
      "execution_count": null,
      "outputs": []
    },
    {
      "cell_type": "code",
      "source": [
        "def add_return(a,b):\n",
        "  return a+b"
      ],
      "metadata": {
        "id": "BCr9S-pg2i9Z"
      },
      "execution_count": null,
      "outputs": []
    },
    {
      "cell_type": "code",
      "source": [
        "add_print(2,3)"
      ],
      "metadata": {
        "colab": {
          "base_uri": "https://localhost:8080/"
        },
        "id": "uQddyInRAxrG",
        "outputId": "46aae85b-19c3-40f0-861e-9a40803623aa"
      },
      "execution_count": null,
      "outputs": [
        {
          "output_type": "stream",
          "name": "stdout",
          "text": [
            "5\n"
          ]
        }
      ]
    },
    {
      "cell_type": "code",
      "source": [
        "add_return(2,3)"
      ],
      "metadata": {
        "colab": {
          "base_uri": "https://localhost:8080/"
        },
        "id": "1xQpmlQaAzgk",
        "outputId": "e18eef02-2f49-4dd8-ece8-3255746e0612"
      },
      "execution_count": null,
      "outputs": [
        {
          "output_type": "execute_result",
          "data": {
            "text/plain": [
              "5"
            ]
          },
          "metadata": {},
          "execution_count": 35
        }
      ]
    },
    {
      "cell_type": "code",
      "source": [
        "x = add_print(2,3)\n",
        "print(x)"
      ],
      "metadata": {
        "colab": {
          "base_uri": "https://localhost:8080/"
        },
        "id": "IzpuRFY0A3No",
        "outputId": "7c0016c2-2e6f-460f-94b9-eec1980a69d5"
      },
      "execution_count": null,
      "outputs": [
        {
          "output_type": "stream",
          "name": "stdout",
          "text": [
            "5\n",
            "None\n"
          ]
        }
      ]
    },
    {
      "cell_type": "code",
      "source": [],
      "metadata": {
        "id": "9VFbnBKPBABP"
      },
      "execution_count": null,
      "outputs": []
    },
    {
      "cell_type": "code",
      "source": [
        "y = add_return(2,3)\n",
        "print(y)"
      ],
      "metadata": {
        "colab": {
          "base_uri": "https://localhost:8080/"
        },
        "id": "v-lW3AjOA7B0",
        "outputId": "978465df-5532-429e-ab2d-46e8ca882e10"
      },
      "execution_count": null,
      "outputs": [
        {
          "output_type": "stream",
          "name": "stdout",
          "text": [
            "5\n"
          ]
        }
      ]
    },
    {
      "cell_type": "code",
      "source": [
        "y"
      ],
      "metadata": {
        "colab": {
          "base_uri": "https://localhost:8080/"
        },
        "id": "WnreJvlABDCv",
        "outputId": "3946cf7b-3811-4270-e169-a46fc5bded6a"
      },
      "execution_count": null,
      "outputs": [
        {
          "output_type": "execute_result",
          "data": {
            "text/plain": [
              "5"
            ]
          },
          "metadata": {},
          "execution_count": 39
        }
      ]
    },
    {
      "cell_type": "code",
      "source": [
        "# return : output can be stored in the variable\n",
        "# print : output is just for the display, can't be stored in the variable"
      ],
      "metadata": {
        "id": "koNcG9MQ3CXT"
      },
      "execution_count": null,
      "outputs": []
    },
    {
      "cell_type": "code",
      "source": [
        "# Write a function called square that takes a number and returns its square.\n",
        "\n",
        "# Defined\n",
        "def square(n):\n",
        "  return n ** 2"
      ],
      "metadata": {
        "id": "1MH8ew2aHAEQ"
      },
      "execution_count": null,
      "outputs": []
    },
    {
      "cell_type": "code",
      "source": [
        "a = square(n = 100)"
      ],
      "metadata": {
        "id": "RQTb9qKyBtVO"
      },
      "execution_count": null,
      "outputs": []
    },
    {
      "cell_type": "code",
      "source": [
        "print(a)"
      ],
      "metadata": {
        "colab": {
          "base_uri": "https://localhost:8080/"
        },
        "id": "7D4zg006Bxti",
        "outputId": "f3bbf3fc-25c2-4351-a2cf-0b21db908cde"
      },
      "execution_count": null,
      "outputs": [
        {
          "output_type": "stream",
          "name": "stdout",
          "text": [
            "10000\n"
          ]
        }
      ]
    },
    {
      "cell_type": "code",
      "source": [
        "# Define a function named fahrenheit_to_celsius that converts Fahrenheit to Celsius and returns the result.\n",
        "# celsius = (fahrenheit - 32) * 5 / 9\n",
        "\n",
        "def fahrenheit_to_celsius(f):\n",
        "  c = (f-32) * 5/9\n",
        "  return c"
      ],
      "metadata": {
        "id": "g7u_Gm9RHA-m"
      },
      "execution_count": null,
      "outputs": []
    },
    {
      "cell_type": "code",
      "source": [
        "fahrenheit_to_celsius( f = 32)"
      ],
      "metadata": {
        "id": "txs5lcPsCUrN",
        "outputId": "d193c843-e000-4cfa-ee20-70b0ddbfae9e",
        "colab": {
          "base_uri": "https://localhost:8080/"
        }
      },
      "execution_count": null,
      "outputs": [
        {
          "output_type": "execute_result",
          "data": {
            "text/plain": [
              "0.0"
            ]
          },
          "metadata": {},
          "execution_count": 46
        }
      ]
    },
    {
      "cell_type": "markdown",
      "source": [
        "#### Default Parameters"
      ],
      "metadata": {
        "id": "PEeVrTlYHO3X"
      }
    },
    {
      "cell_type": "code",
      "source": [
        "# Functions can have default values for parameters, which are used\n",
        "# if no value is provided when the function is called.\n",
        "# predefined"
      ],
      "metadata": {
        "id": "hgFiEbomHRpn"
      },
      "execution_count": null,
      "outputs": []
    },
    {
      "cell_type": "code",
      "source": [
        "# Defined the function\n",
        "def greet(name = \"Guest\"):\n",
        "    print(f\"Hello, {name}!\")\n",
        "\n",
        "greet()\n"
      ],
      "metadata": {
        "colab": {
          "base_uri": "https://localhost:8080/"
        },
        "id": "ayn9I6_cHUsj",
        "outputId": "2e87ccab-c931-4f43-b08d-6beb6359ab7f"
      },
      "execution_count": null,
      "outputs": [
        {
          "output_type": "stream",
          "name": "stdout",
          "text": [
            "Hello, Guest!\n"
          ]
        }
      ]
    },
    {
      "cell_type": "code",
      "source": [
        "greet('Alok')\n",
        "# name variable has a default value as Guest,\n",
        "# otherwise it will be take input given to the parameter"
      ],
      "metadata": {
        "colab": {
          "base_uri": "https://localhost:8080/"
        },
        "id": "zuqCawoLxwoq",
        "outputId": "87c06a12-5d16-477f-83fd-57cb8b3eb165"
      },
      "execution_count": null,
      "outputs": [
        {
          "output_type": "stream",
          "name": "stdout",
          "text": [
            "Hello, Alok!\n"
          ]
        }
      ]
    },
    {
      "cell_type": "code",
      "source": [
        "def multiply(a , b):\n",
        "  return a * b\n",
        "\n",
        "# Here there is no default value\n",
        "multiply(a =5 , b  =6)"
      ],
      "metadata": {
        "colab": {
          "base_uri": "https://localhost:8080/"
        },
        "id": "FaK_d_6w7UgI",
        "outputId": "4a23cc7c-f2d7-486c-89ca-eb26260d184d"
      },
      "execution_count": null,
      "outputs": [
        {
          "output_type": "execute_result",
          "data": {
            "text/plain": [
              "30"
            ]
          },
          "metadata": {},
          "execution_count": 7
        }
      ]
    },
    {
      "cell_type": "code",
      "source": [
        "multiply(a =5 )"
      ],
      "metadata": {
        "colab": {
          "base_uri": "https://localhost:8080/",
          "height": 141
        },
        "id": "YWjezEiiyJ7t",
        "outputId": "0a4b24c9-5638-4992-8e51-32d129399f1f"
      },
      "execution_count": null,
      "outputs": [
        {
          "output_type": "error",
          "ename": "TypeError",
          "evalue": "multiply() missing 1 required positional argument: 'b'",
          "traceback": [
            "\u001b[0;31m---------------------------------------------------------------------------\u001b[0m",
            "\u001b[0;31mTypeError\u001b[0m                                 Traceback (most recent call last)",
            "\u001b[0;32m<ipython-input-8-46226050f24b>\u001b[0m in \u001b[0;36m<cell line: 1>\u001b[0;34m()\u001b[0m\n\u001b[0;32m----> 1\u001b[0;31m \u001b[0mmultiply\u001b[0m\u001b[0;34m(\u001b[0m\u001b[0ma\u001b[0m \u001b[0;34m=\u001b[0m\u001b[0;36m5\u001b[0m \u001b[0;34m)\u001b[0m\u001b[0;34m\u001b[0m\u001b[0;34m\u001b[0m\u001b[0m\n\u001b[0m",
            "\u001b[0;31mTypeError\u001b[0m: multiply() missing 1 required positional argument: 'b'"
          ]
        }
      ]
    },
    {
      "cell_type": "code",
      "source": [
        "def multiply(a , b = 1):\n",
        "  return a * b\n",
        "\n",
        "# Default value for b\n",
        "print(multiply(a= 5))\n",
        "print(multiply(a= 5, b = 6))"
      ],
      "metadata": {
        "colab": {
          "base_uri": "https://localhost:8080/"
        },
        "id": "A2VXaexWyN01",
        "outputId": "7de5bd1b-d287-436f-c5d8-a929e7b32ca4"
      },
      "execution_count": null,
      "outputs": [
        {
          "output_type": "stream",
          "name": "stdout",
          "text": [
            "5\n",
            "30\n"
          ]
        }
      ]
    },
    {
      "cell_type": "code",
      "source": [
        "# Combination of default and non default paramters\n",
        "def add_numbers( a, b = 0):\n",
        "  return a + b\n",
        "\n",
        "# is there any parameter with default value ? Yes --> b\n",
        "# Is there any parameter with non default value ? Yes --> a\n"
      ],
      "metadata": {
        "id": "cRhlxeWO7oly"
      },
      "execution_count": null,
      "outputs": []
    },
    {
      "cell_type": "code",
      "source": [
        "# Note : Non default parameter will come before your default parameters\n",
        "# def add(b = 7, a):\n",
        "#   print(a+b)\n",
        "\n",
        "# b is default parameter\n",
        "# a is non default parameter\n",
        "\n",
        "def add(a,b=7):\n",
        "  print(a+b)"
      ],
      "metadata": {
        "id": "kG2zmc5c8I5B"
      },
      "execution_count": null,
      "outputs": []
    },
    {
      "cell_type": "code",
      "source": [
        "def add(a, b = 1, c):\n",
        "  print(a+b+c)\n"
      ],
      "metadata": {
        "colab": {
          "base_uri": "https://localhost:8080/",
          "height": 106
        },
        "id": "x1EY7-PNy12z",
        "outputId": "60da8a50-19a6-4894-84d4-9ed85ef9b836"
      },
      "execution_count": null,
      "outputs": [
        {
          "output_type": "error",
          "ename": "SyntaxError",
          "evalue": "non-default argument follows default argument (<ipython-input-12-43c400b8a063>, line 1)",
          "traceback": [
            "\u001b[0;36m  File \u001b[0;32m\"<ipython-input-12-43c400b8a063>\"\u001b[0;36m, line \u001b[0;32m1\u001b[0m\n\u001b[0;31m    def add(a, b = 1, c):\u001b[0m\n\u001b[0m                      ^\u001b[0m\n\u001b[0;31mSyntaxError\u001b[0m\u001b[0;31m:\u001b[0m non-default argument follows default argument\n"
          ]
        }
      ]
    },
    {
      "cell_type": "code",
      "source": [
        "def add(a,c, b = 1):\n",
        "  print(a+b+c)"
      ],
      "metadata": {
        "id": "R7qlTH7EzIeb"
      },
      "execution_count": null,
      "outputs": []
    },
    {
      "cell_type": "code",
      "source": [
        "# def add_numbers(a = 8, b = 9, c = 9, d = 9):\n",
        "#   return a+b+c+d\n"
      ],
      "metadata": {
        "id": "uxpJjA_U9q_t"
      },
      "execution_count": null,
      "outputs": []
    },
    {
      "cell_type": "code",
      "source": [
        "help(print)"
      ],
      "metadata": {
        "colab": {
          "base_uri": "https://localhost:8080/"
        },
        "id": "PHUgqZc3zWLg",
        "outputId": "436cb7f8-1a30-4480-a96d-849c0318a0cb"
      },
      "execution_count": null,
      "outputs": [
        {
          "output_type": "stream",
          "name": "stdout",
          "text": [
            "Help on built-in function print in module builtins:\n",
            "\n",
            "print(...)\n",
            "    print(value, ..., sep=' ', end='\\n', file=sys.stdout, flush=False)\n",
            "    \n",
            "    Prints the values to a stream, or to sys.stdout by default.\n",
            "    Optional keyword arguments:\n",
            "    file:  a file-like object (stream); defaults to the current sys.stdout.\n",
            "    sep:   string inserted between values, default a space.\n",
            "    end:   string appended after the last value, default a newline.\n",
            "    flush: whether to forcibly flush the stream.\n",
            "\n"
          ]
        }
      ]
    },
    {
      "cell_type": "code",
      "source": [
        "# Ensuring that you are not missing mandatory arguments\n",
        "# def x(a,b,c = 0, d, e=1, f, g,h = 5)\n",
        "# def x(a,b,d,f,g, c=0,e=1,h=5)\n",
        "# In which scenario you will be comfortable in finding all mandatory arguments?\n",
        "# 2 nd case"
      ],
      "metadata": {
        "id": "qbEOP2Gkznn5"
      },
      "execution_count": null,
      "outputs": []
    },
    {
      "cell_type": "code",
      "source": [
        "# Create a function named calculate_area that takes the radius of a circle and a pi value,\n",
        "# with a default  pi value of 3.14, and returns the area.\n",
        "# Defining the function\n",
        "def calculate_area(r, pi = 3.14):\n",
        "  area = pi*r**2\n",
        "  return area\n",
        "\n",
        "# Call the function\n",
        "r = int(input('Enter the radius'))\n",
        "calculate_area(r, pi = 3.1415)\n"
      ],
      "metadata": {
        "id": "DHWRMaHFHcpa",
        "colab": {
          "base_uri": "https://localhost:8080/"
        },
        "outputId": "747e2e15-9c7e-4271-ca89-555622fbf894"
      },
      "execution_count": null,
      "outputs": [
        {
          "name": "stdout",
          "output_type": "stream",
          "text": [
            "Enter the radius2\n"
          ]
        },
        {
          "output_type": "execute_result",
          "data": {
            "text/plain": [
              "12.566"
            ]
          },
          "metadata": {},
          "execution_count": 16
        }
      ]
    },
    {
      "cell_type": "markdown",
      "source": [
        "#### Keyword Arguments"
      ],
      "metadata": {
        "id": "oND-rE8mHmBK"
      }
    },
    {
      "cell_type": "code",
      "source": [
        "# When calling functions, you can specify the arguments by the parameter names."
      ],
      "metadata": {
        "id": "x5p1imIEHzKU"
      },
      "execution_count": null,
      "outputs": []
    },
    {
      "cell_type": "code",
      "source": [
        "def describe_pet(animal_type, pet_name):\n",
        "    print(f\"I have a {animal_type} named {pet_name}.\")\n",
        "\n",
        "\n",
        "# Output: I have a dog named Buddy.\n"
      ],
      "metadata": {
        "id": "JHrYBvHLH1tB"
      },
      "execution_count": null,
      "outputs": []
    },
    {
      "cell_type": "code",
      "source": [
        "# Call this function\n",
        "a = 'dog'\n",
        "b = 'Rocko'\n",
        "describe_pet(animal_type = a, pet_name = b)"
      ],
      "metadata": {
        "colab": {
          "base_uri": "https://localhost:8080/"
        },
        "id": "EW1ud8DpttUn",
        "outputId": "aaad3661-9eee-43f6-f637-7866774048b3"
      },
      "execution_count": null,
      "outputs": [
        {
          "output_type": "stream",
          "name": "stdout",
          "text": [
            "I have a dog named Rocko.\n"
          ]
        }
      ]
    },
    {
      "cell_type": "code",
      "source": [
        "describe_pet(a,b)"
      ],
      "metadata": {
        "colab": {
          "base_uri": "https://localhost:8080/"
        },
        "id": "2bVUZXS14lg6",
        "outputId": "57cd9bac-d1c2-4b2c-9fa4-9db8b453c12d"
      },
      "execution_count": null,
      "outputs": [
        {
          "output_type": "stream",
          "name": "stdout",
          "text": [
            "I have a dog named Rocko.\n"
          ]
        }
      ]
    },
    {
      "cell_type": "code",
      "source": [
        "describe_pet('dog','rocko')"
      ],
      "metadata": {
        "colab": {
          "base_uri": "https://localhost:8080/"
        },
        "id": "UpnWZLY54p7Q",
        "outputId": "81303c39-9a67-4f31-a62f-1dae4c5bcea7"
      },
      "execution_count": null,
      "outputs": [
        {
          "output_type": "stream",
          "name": "stdout",
          "text": [
            "I have a dog named rocko.\n"
          ]
        }
      ]
    },
    {
      "cell_type": "code",
      "source": [
        "describe_pet(pet_name = b, animal_type = a )"
      ],
      "metadata": {
        "colab": {
          "base_uri": "https://localhost:8080/"
        },
        "id": "RLnbyuDj3dUY",
        "outputId": "0ef22c08-7503-4dea-a10f-b697e28b71be"
      },
      "execution_count": null,
      "outputs": [
        {
          "output_type": "stream",
          "name": "stdout",
          "text": [
            "I have a dog named Rocko.\n"
          ]
        }
      ]
    },
    {
      "cell_type": "code",
      "source": [
        "describe_pet(pet_name = 'rocko', animal_type = 'dog' ) # Throw : dog & rocko : Variables"
      ],
      "metadata": {
        "colab": {
          "base_uri": "https://localhost:8080/"
        },
        "id": "9jYbfPCx4NSr",
        "outputId": "c8a7490d-c830-4f8c-c3ea-db65f1a310e4"
      },
      "execution_count": null,
      "outputs": [
        {
          "output_type": "stream",
          "name": "stdout",
          "text": [
            "I have a dog named rocko.\n"
          ]
        }
      ]
    },
    {
      "cell_type": "code",
      "source": [
        "describe_pet( b, a ) # Function : b = animal_type, a = pet_name\n",
        "# Chances of error : High"
      ],
      "metadata": {
        "colab": {
          "base_uri": "https://localhost:8080/"
        },
        "id": "f7RzKfYq3pEd",
        "outputId": "03e51a25-95dc-42c8-9a90-63a7d9c3c9dc"
      },
      "execution_count": null,
      "outputs": [
        {
          "output_type": "stream",
          "name": "stdout",
          "text": [
            "I have a Rocko named dog.\n"
          ]
        }
      ]
    },
    {
      "cell_type": "code",
      "source": [
        "# Write a function named person_info that takes two keyword arguments: name and age, and prints them.\n",
        "\n",
        "def person_info(name, age):\n",
        "  print(f'My name is {name} and I am {age} years old')\n",
        "\n"
      ],
      "metadata": {
        "id": "3-hqoGnHH6gM"
      },
      "execution_count": null,
      "outputs": []
    },
    {
      "cell_type": "markdown",
      "source": [
        "#### Function Scope and Lifetime"
      ],
      "metadata": {
        "id": "x6Q6y9WUIHnX"
      }
    },
    {
      "cell_type": "code",
      "source": [
        "# Local variable: Variables defined inside a function are not visible from outside the function.\n",
        "# Global variable: Variables defined outside a function can be accessed inside the function using the global keyword."
      ],
      "metadata": {
        "id": "O9aUsd5cIUGl"
      },
      "execution_count": null,
      "outputs": []
    },
    {
      "cell_type": "code",
      "source": [
        "def multiply(a,b):\n",
        "  d  = a+ b # local variable\n",
        "  c = a * b # Local variable\n",
        "  return (c,d)\n"
      ],
      "metadata": {
        "id": "RccIOE5MxssX"
      },
      "execution_count": null,
      "outputs": []
    },
    {
      "cell_type": "code",
      "source": [
        "# Calling the function\n",
        "multiply(a = 3,b= 5)"
      ],
      "metadata": {
        "colab": {
          "base_uri": "https://localhost:8080/"
        },
        "id": "0YazJed1xwNr",
        "outputId": "0e409f67-8c8b-48c8-9192-67dd4258c2af"
      },
      "execution_count": null,
      "outputs": [
        {
          "output_type": "execute_result",
          "data": {
            "text/plain": [
              "(15, 8)"
            ]
          },
          "metadata": {},
          "execution_count": 34
        }
      ]
    },
    {
      "cell_type": "code",
      "source": [
        "# Calling the funcion\n",
        "# multiply(3,5)"
      ],
      "metadata": {
        "colab": {
          "base_uri": "https://localhost:8080/"
        },
        "id": "BKPc7Y395nnL",
        "outputId": "c3ddc409-e6c1-4140-a2ea-970210709d39"
      },
      "execution_count": null,
      "outputs": [
        {
          "output_type": "execute_result",
          "data": {
            "text/plain": [
              "(15, 8)"
            ]
          },
          "metadata": {},
          "execution_count": 35
        }
      ]
    },
    {
      "cell_type": "code",
      "source": [
        "print(d) # error : name 'd' is not defined."
      ],
      "metadata": {
        "colab": {
          "base_uri": "https://localhost:8080/",
          "height": 141
        },
        "id": "dug9P0uH5In7",
        "outputId": "933c7c2d-fb23-4da8-ab3e-8d84cc8900df"
      },
      "execution_count": null,
      "outputs": [
        {
          "output_type": "error",
          "ename": "NameError",
          "evalue": "name 'd' is not defined",
          "traceback": [
            "\u001b[0;31m---------------------------------------------------------------------------\u001b[0m",
            "\u001b[0;31mNameError\u001b[0m                                 Traceback (most recent call last)",
            "\u001b[0;32m<ipython-input-29-85549cb1de5f>\u001b[0m in \u001b[0;36m<cell line: 1>\u001b[0;34m()\u001b[0m\n\u001b[0;32m----> 1\u001b[0;31m \u001b[0mprint\u001b[0m\u001b[0;34m(\u001b[0m\u001b[0md\u001b[0m\u001b[0;34m)\u001b[0m\u001b[0;34m\u001b[0m\u001b[0;34m\u001b[0m\u001b[0m\n\u001b[0m",
            "\u001b[0;31mNameError\u001b[0m: name 'd' is not defined"
          ]
        }
      ]
    },
    {
      "cell_type": "code",
      "source": [
        "print(c)"
      ],
      "metadata": {
        "colab": {
          "base_uri": "https://localhost:8080/",
          "height": 141
        },
        "id": "j4ErM8LY5_ZG",
        "outputId": "1551d8b4-3d18-4e79-8e1d-3e693557dbf7"
      },
      "execution_count": null,
      "outputs": [
        {
          "output_type": "error",
          "ename": "NameError",
          "evalue": "name 'c' is not defined",
          "traceback": [
            "\u001b[0;31m---------------------------------------------------------------------------\u001b[0m",
            "\u001b[0;31mNameError\u001b[0m                                 Traceback (most recent call last)",
            "\u001b[0;32m<ipython-input-32-1dd5973cae19>\u001b[0m in \u001b[0;36m<cell line: 1>\u001b[0;34m()\u001b[0m\n\u001b[0;32m----> 1\u001b[0;31m \u001b[0mprint\u001b[0m\u001b[0;34m(\u001b[0m\u001b[0mc\u001b[0m\u001b[0;34m)\u001b[0m\u001b[0;34m\u001b[0m\u001b[0;34m\u001b[0m\u001b[0m\n\u001b[0m",
            "\u001b[0;31mNameError\u001b[0m: name 'c' is not defined"
          ]
        }
      ]
    },
    {
      "cell_type": "code",
      "source": [
        "# Scenario 2 :\n",
        "def multiply(a,b):\n",
        "  global d # Declared variable d is global\n",
        "  d  = a+ b\n",
        "  c = a * b\n",
        "  return (c,d)"
      ],
      "metadata": {
        "id": "32uoCmm96Pdg"
      },
      "execution_count": null,
      "outputs": []
    },
    {
      "cell_type": "code",
      "source": [
        "multiply(3,5)"
      ],
      "metadata": {
        "colab": {
          "base_uri": "https://localhost:8080/"
        },
        "id": "x-Gb-P4P6Zou",
        "outputId": "318b74b9-9d7a-4e46-ef9c-782df70f55c4"
      },
      "execution_count": null,
      "outputs": [
        {
          "output_type": "execute_result",
          "data": {
            "text/plain": [
              "(15, 8)"
            ]
          },
          "metadata": {},
          "execution_count": 37
        }
      ]
    },
    {
      "cell_type": "code",
      "source": [
        "print(d)"
      ],
      "metadata": {
        "colab": {
          "base_uri": "https://localhost:8080/"
        },
        "id": "WXFp5RZp6cPp",
        "outputId": "8a578c7a-ef13-4f3d-9504-2006e50a7636"
      },
      "execution_count": null,
      "outputs": [
        {
          "output_type": "stream",
          "name": "stdout",
          "text": [
            "8\n"
          ]
        }
      ]
    },
    {
      "cell_type": "code",
      "source": [
        "print(c)"
      ],
      "metadata": {
        "colab": {
          "base_uri": "https://localhost:8080/",
          "height": 141
        },
        "id": "rXM50xSr6gry",
        "outputId": "52b49d57-a4d5-4b85-8cab-746198463ef6"
      },
      "execution_count": null,
      "outputs": [
        {
          "output_type": "error",
          "ename": "NameError",
          "evalue": "name 'c' is not defined",
          "traceback": [
            "\u001b[0;31m---------------------------------------------------------------------------\u001b[0m",
            "\u001b[0;31mNameError\u001b[0m                                 Traceback (most recent call last)",
            "\u001b[0;32m<ipython-input-39-1dd5973cae19>\u001b[0m in \u001b[0;36m<cell line: 1>\u001b[0;34m()\u001b[0m\n\u001b[0;32m----> 1\u001b[0;31m \u001b[0mprint\u001b[0m\u001b[0;34m(\u001b[0m\u001b[0mc\u001b[0m\u001b[0;34m)\u001b[0m\u001b[0;34m\u001b[0m\u001b[0;34m\u001b[0m\u001b[0m\n\u001b[0m",
            "\u001b[0;31mNameError\u001b[0m: name 'c' is not defined"
          ]
        }
      ]
    },
    {
      "cell_type": "code",
      "source": [
        "# Scenario 2 :\n",
        "def multiply(a,b):\n",
        "  global d # Declared variable d is global\n",
        "  global c,e\n",
        "  d  = a+ b\n",
        "  c = a * b\n",
        "  e = a/b\n",
        "  return (c,d)"
      ],
      "metadata": {
        "id": "nt9cBOtL6lM4"
      },
      "execution_count": null,
      "outputs": []
    },
    {
      "cell_type": "code",
      "source": [
        "multiply(3,5)"
      ],
      "metadata": {
        "colab": {
          "base_uri": "https://localhost:8080/"
        },
        "id": "YYTujib66mkE",
        "outputId": "a0303b98-6d06-48ca-c34a-825a2db03dd4"
      },
      "execution_count": null,
      "outputs": [
        {
          "output_type": "execute_result",
          "data": {
            "text/plain": [
              "(15, 8)"
            ]
          },
          "metadata": {},
          "execution_count": 51
        }
      ]
    },
    {
      "cell_type": "code",
      "source": [
        "print(d)"
      ],
      "metadata": {
        "colab": {
          "base_uri": "https://localhost:8080/"
        },
        "id": "_pEu0bAI6od8",
        "outputId": "4a51d86e-c039-4f89-ec2e-391e8f3a3319"
      },
      "execution_count": null,
      "outputs": [
        {
          "output_type": "stream",
          "name": "stdout",
          "text": [
            "8\n"
          ]
        }
      ]
    },
    {
      "cell_type": "code",
      "source": [
        "print(c)"
      ],
      "metadata": {
        "colab": {
          "base_uri": "https://localhost:8080/"
        },
        "id": "fxHwiTmf6pSU",
        "outputId": "50b9926e-6269-4346-9b0b-8abba5e58b79"
      },
      "execution_count": null,
      "outputs": [
        {
          "output_type": "stream",
          "name": "stdout",
          "text": [
            "15\n"
          ]
        }
      ]
    },
    {
      "cell_type": "code",
      "source": [
        "dir()"
      ],
      "metadata": {
        "colab": {
          "base_uri": "https://localhost:8080/"
        },
        "id": "fHwtfF_b6syh",
        "outputId": "ff0bb223-a91d-4d63-f68f-8246d2e6414d"
      },
      "execution_count": null,
      "outputs": [
        {
          "output_type": "execute_result",
          "data": {
            "text/plain": [
              "['In',\n",
              " 'Out',\n",
              " '_',\n",
              " '_15',\n",
              " '_16',\n",
              " '_28',\n",
              " '_31',\n",
              " '_34',\n",
              " '_35',\n",
              " '_37',\n",
              " '_41',\n",
              " '_44',\n",
              " '_46',\n",
              " '_49',\n",
              " '_51',\n",
              " '_7',\n",
              " '__',\n",
              " '___',\n",
              " '__builtin__',\n",
              " '__builtins__',\n",
              " '__doc__',\n",
              " '__loader__',\n",
              " '__name__',\n",
              " '__package__',\n",
              " '__spec__',\n",
              " '_dh',\n",
              " '_i',\n",
              " '_i1',\n",
              " '_i10',\n",
              " '_i11',\n",
              " '_i12',\n",
              " '_i13',\n",
              " '_i14',\n",
              " '_i15',\n",
              " '_i16',\n",
              " '_i17',\n",
              " '_i18',\n",
              " '_i19',\n",
              " '_i2',\n",
              " '_i20',\n",
              " '_i21',\n",
              " '_i22',\n",
              " '_i23',\n",
              " '_i24',\n",
              " '_i25',\n",
              " '_i26',\n",
              " '_i27',\n",
              " '_i28',\n",
              " '_i29',\n",
              " '_i3',\n",
              " '_i30',\n",
              " '_i31',\n",
              " '_i32',\n",
              " '_i33',\n",
              " '_i34',\n",
              " '_i35',\n",
              " '_i36',\n",
              " '_i37',\n",
              " '_i38',\n",
              " '_i39',\n",
              " '_i4',\n",
              " '_i40',\n",
              " '_i41',\n",
              " '_i42',\n",
              " '_i43',\n",
              " '_i44',\n",
              " '_i45',\n",
              " '_i46',\n",
              " '_i47',\n",
              " '_i48',\n",
              " '_i49',\n",
              " '_i5',\n",
              " '_i50',\n",
              " '_i51',\n",
              " '_i52',\n",
              " '_i53',\n",
              " '_i54',\n",
              " '_i6',\n",
              " '_i7',\n",
              " '_i8',\n",
              " '_i9',\n",
              " '_ih',\n",
              " '_ii',\n",
              " '_iii',\n",
              " '_oh',\n",
              " 'a',\n",
              " 'add',\n",
              " 'b',\n",
              " 'c',\n",
              " 'calculate_area',\n",
              " 'd',\n",
              " 'describe_pet',\n",
              " 'e',\n",
              " 'exit',\n",
              " 'get_ipython',\n",
              " 'greet',\n",
              " 'multiply',\n",
              " 'quit',\n",
              " 'r']"
            ]
          },
          "metadata": {},
          "execution_count": 54
        }
      ]
    },
    {
      "cell_type": "code",
      "source": [
        "def add(a,b):\n",
        "  global g\n",
        "  g = a+ b\n",
        "  return 'Hello'"
      ],
      "metadata": {
        "id": "2My_lLZE7JPG"
      },
      "execution_count": null,
      "outputs": []
    },
    {
      "cell_type": "code",
      "source": [
        "print(g)"
      ],
      "metadata": {
        "colab": {
          "base_uri": "https://localhost:8080/",
          "height": 141
        },
        "id": "dJnuMHkL7SWI",
        "outputId": "df1e2ad6-4283-4bf0-cf5f-4b44968b9429"
      },
      "execution_count": null,
      "outputs": [
        {
          "output_type": "error",
          "ename": "NameError",
          "evalue": "name 'g' is not defined",
          "traceback": [
            "\u001b[0;31m---------------------------------------------------------------------------\u001b[0m",
            "\u001b[0;31mNameError\u001b[0m                                 Traceback (most recent call last)",
            "\u001b[0;32m<ipython-input-58-e1cdc681402c>\u001b[0m in \u001b[0;36m<cell line: 1>\u001b[0;34m()\u001b[0m\n\u001b[0;32m----> 1\u001b[0;31m \u001b[0mprint\u001b[0m\u001b[0;34m(\u001b[0m\u001b[0mg\u001b[0m\u001b[0;34m)\u001b[0m\u001b[0;34m\u001b[0m\u001b[0;34m\u001b[0m\u001b[0m\n\u001b[0m",
            "\u001b[0;31mNameError\u001b[0m: name 'g' is not defined"
          ]
        }
      ]
    },
    {
      "cell_type": "code",
      "source": [
        "add(a =1,b= 2)"
      ],
      "metadata": {
        "colab": {
          "base_uri": "https://localhost:8080/",
          "height": 35
        },
        "id": "ccPcex4Z7aWw",
        "outputId": "c2b814db-50bb-492b-cc25-e42c2c38313f"
      },
      "execution_count": null,
      "outputs": [
        {
          "output_type": "execute_result",
          "data": {
            "text/plain": [
              "'Hello'"
            ],
            "application/vnd.google.colaboratory.intrinsic+json": {
              "type": "string"
            }
          },
          "metadata": {},
          "execution_count": 61
        }
      ]
    },
    {
      "cell_type": "code",
      "source": [
        "print(g)"
      ],
      "metadata": {
        "colab": {
          "base_uri": "https://localhost:8080/"
        },
        "id": "CReOEj8h7crm",
        "outputId": "6b8e7e40-44bb-4f9a-90de-2168a1d405c8"
      },
      "execution_count": null,
      "outputs": [
        {
          "output_type": "stream",
          "name": "stdout",
          "text": [
            "3\n"
          ]
        }
      ]
    },
    {
      "cell_type": "code",
      "source": [
        "# Scenario 3\n",
        "gl = 5 # Global variable\n",
        "\n",
        "def multiply(a,b):\n",
        "  c = a* b * gl # c --> Local Variable\n",
        "  return c"
      ],
      "metadata": {
        "id": "Rb2YS7Yu7lYY"
      },
      "execution_count": null,
      "outputs": []
    },
    {
      "cell_type": "code",
      "source": [
        "multiply(a = 5,b =6) # 5 * 6 * 5 = 150\n",
        "# Function can access all variables which are global"
      ],
      "metadata": {
        "colab": {
          "base_uri": "https://localhost:8080/"
        },
        "id": "hg3fWyg58BuY",
        "outputId": "f10a0420-0a0b-4286-bbe9-3ef989d535c6"
      },
      "execution_count": null,
      "outputs": [
        {
          "output_type": "execute_result",
          "data": {
            "text/plain": [
              "150"
            ]
          },
          "metadata": {},
          "execution_count": 64
        }
      ]
    },
    {
      "cell_type": "code",
      "source": [
        "# Scenario 4\n",
        "gl = 5 # Global variable\n",
        "\n",
        "def multiply(a,b):\n",
        "  gl = 6 # Local Variable\n",
        "  global c\n",
        "  c = a * b * gl # c --> Local Variable\n",
        "  return c"
      ],
      "metadata": {
        "id": "9lT2dSty8Gud"
      },
      "execution_count": null,
      "outputs": []
    },
    {
      "cell_type": "code",
      "source": [
        "multiply(3,5) # Function will first search for local variable if any, otherwise it will use global variable"
      ],
      "metadata": {
        "colab": {
          "base_uri": "https://localhost:8080/"
        },
        "id": "nbiHZFUG8ob7",
        "outputId": "4587f50f-746d-4113-f271-de6494ba0e86"
      },
      "execution_count": null,
      "outputs": [
        {
          "output_type": "execute_result",
          "data": {
            "text/plain": [
              "90"
            ]
          },
          "metadata": {},
          "execution_count": 73
        }
      ]
    },
    {
      "cell_type": "code",
      "source": [
        "print(gl)  # Value of global variable 'gl'"
      ],
      "metadata": {
        "colab": {
          "base_uri": "https://localhost:8080/"
        },
        "id": "bwoVQcHM9NKD",
        "outputId": "7ff3de89-7f72-4c12-ee39-913b2eb7ae06"
      },
      "execution_count": null,
      "outputs": [
        {
          "output_type": "stream",
          "name": "stdout",
          "text": [
            "5\n"
          ]
        }
      ]
    },
    {
      "cell_type": "code",
      "source": [
        "print(c)"
      ],
      "metadata": {
        "colab": {
          "base_uri": "https://localhost:8080/"
        },
        "id": "QwVqvRmF9gxO",
        "outputId": "e2050e20-c59d-44fe-c9e8-f8dad2336de2"
      },
      "execution_count": null,
      "outputs": [
        {
          "output_type": "stream",
          "name": "stdout",
          "text": [
            "90\n"
          ]
        }
      ]
    },
    {
      "cell_type": "code",
      "source": [
        "# Scenario 5\n",
        "gl = 5 # Global variable\n",
        "\n",
        "def multiply(a,b):\n",
        "  global gl\n",
        "  gl = 6 # Global Variable\n",
        "  c = a * b * gl # c --> Local Variable\n",
        "  return c"
      ],
      "metadata": {
        "id": "q6KYcTvl9PR-"
      },
      "execution_count": null,
      "outputs": []
    },
    {
      "cell_type": "code",
      "source": [
        "multiply(3,5)"
      ],
      "metadata": {
        "colab": {
          "base_uri": "https://localhost:8080/"
        },
        "id": "DbdKKUm09ley",
        "outputId": "4b7fd4ad-e7f4-4ba7-9c36-df1ce4dcfd3e"
      },
      "execution_count": null,
      "outputs": [
        {
          "output_type": "execute_result",
          "data": {
            "text/plain": [
              "90"
            ]
          },
          "metadata": {},
          "execution_count": 77
        }
      ]
    },
    {
      "cell_type": "code",
      "source": [
        "print(gl)"
      ],
      "metadata": {
        "colab": {
          "base_uri": "https://localhost:8080/"
        },
        "id": "kX6k1fS_9oLv",
        "outputId": "b5e1657d-19bb-4f39-f8e4-839e7bcf6b88"
      },
      "execution_count": null,
      "outputs": [
        {
          "output_type": "stream",
          "name": "stdout",
          "text": [
            "6\n"
          ]
        }
      ]
    },
    {
      "cell_type": "code",
      "source": [
        "# Here : global variable 'gl' will be overwritten"
      ],
      "metadata": {
        "id": "ArFX6UT-93Yr"
      },
      "execution_count": null,
      "outputs": []
    },
    {
      "cell_type": "code",
      "source": [
        "# Any variable created inside the function is temporary variable/ local variable"
      ],
      "metadata": {
        "id": "XHk8ESK35X0x"
      },
      "execution_count": null,
      "outputs": []
    },
    {
      "cell_type": "code",
      "source": [
        "# All variables outside function is global ; it will be stored in the memory until you delete\n",
        "# All variables inside the function is local until you declare it as global"
      ],
      "metadata": {
        "id": "u5ZCjbgyyE5d"
      },
      "execution_count": null,
      "outputs": []
    },
    {
      "cell_type": "code",
      "source": [],
      "metadata": {
        "id": "TFsruXW6yZj3"
      },
      "execution_count": null,
      "outputs": []
    },
    {
      "cell_type": "code",
      "source": [
        "# Variable inside the function is local : Temporary : not stored in the memory\n",
        "# Variable created outside the function is global : Permanant: Stored in the memory"
      ],
      "metadata": {
        "id": "ItVr7oa-4Obc"
      },
      "execution_count": null,
      "outputs": []
    },
    {
      "cell_type": "code",
      "source": [
        "# Write a function named test_scope that defines a local variable x\n",
        "# and prints it inside the function. Then, try printing x outside the function.\n"
      ],
      "metadata": {
        "id": "0jUZKkR2If3g"
      },
      "execution_count": null,
      "outputs": []
    },
    {
      "cell_type": "code",
      "source": [
        "# Create a function called modify_global that modifies a\n",
        "# global variable count inside the function using the global keyword.\n"
      ],
      "metadata": {
        "id": "vZuwijJyIhNa"
      },
      "execution_count": null,
      "outputs": []
    },
    {
      "cell_type": "code",
      "source": [
        "c"
      ],
      "metadata": {
        "id": "HcJmlXddIhLF",
        "colab": {
          "base_uri": "https://localhost:8080/"
        },
        "outputId": "45881f36-3fbd-40da-a962-570658bfb0b1"
      },
      "execution_count": null,
      "outputs": [
        {
          "output_type": "execute_result",
          "data": {
            "text/plain": [
              "90"
            ]
          },
          "metadata": {},
          "execution_count": 79
        }
      ]
    },
    {
      "cell_type": "code",
      "source": [
        "del c # global variable is deleted"
      ],
      "metadata": {
        "id": "9h6TbIXw-0Uk"
      },
      "execution_count": null,
      "outputs": []
    },
    {
      "cell_type": "code",
      "source": [
        "print(c) # Because it's deleted."
      ],
      "metadata": {
        "colab": {
          "base_uri": "https://localhost:8080/",
          "height": 141
        },
        "id": "r926IInL-3W5",
        "outputId": "e1241e82-338f-406f-d0e2-b302f3cb40d2"
      },
      "execution_count": null,
      "outputs": [
        {
          "output_type": "error",
          "ename": "NameError",
          "evalue": "name 'c' is not defined",
          "traceback": [
            "\u001b[0;31m---------------------------------------------------------------------------\u001b[0m",
            "\u001b[0;31mNameError\u001b[0m                                 Traceback (most recent call last)",
            "\u001b[0;32m<ipython-input-81-1dd5973cae19>\u001b[0m in \u001b[0;36m<cell line: 1>\u001b[0;34m()\u001b[0m\n\u001b[0;32m----> 1\u001b[0;31m \u001b[0mprint\u001b[0m\u001b[0;34m(\u001b[0m\u001b[0mc\u001b[0m\u001b[0;34m)\u001b[0m\u001b[0;34m\u001b[0m\u001b[0;34m\u001b[0m\u001b[0m\n\u001b[0m",
            "\u001b[0;31mNameError\u001b[0m: name 'c' is not defined"
          ]
        }
      ]
    },
    {
      "cell_type": "markdown",
      "source": [
        "#### Docstrings"
      ],
      "metadata": {
        "id": "TwVHCQ32I_8n"
      }
    },
    {
      "cell_type": "code",
      "source": [
        "# Provide a convenient way of associating documentation with functions.\n",
        "# Docstrings : Manual of function\n",
        "# Triple double quotes"
      ],
      "metadata": {
        "id": "VOBLKx32JAnx"
      },
      "execution_count": null,
      "outputs": []
    },
    {
      "cell_type": "code",
      "source": [
        "def greet(name):\n",
        "    \"\"\"Display a greeting message.\"\"\"\n",
        "    print(f\"Hello, {name}!\")\n",
        "\n",
        "print(greet.__doc__)  # Output: Display a greeting message."
      ],
      "metadata": {
        "id": "RVM7Kf8LJHOy",
        "colab": {
          "base_uri": "https://localhost:8080/"
        },
        "outputId": "a754df9a-9199-4aa2-a25d-a5976399b0a2"
      },
      "execution_count": null,
      "outputs": [
        {
          "output_type": "stream",
          "name": "stdout",
          "text": [
            "Display a greeting message.\n"
          ]
        }
      ]
    },
    {
      "cell_type": "code",
      "source": [
        "def factorial(n):\n",
        "  \"\"\"\n",
        "  Input: Function expects the input as positive Integer\n",
        "  Output: Function will give the output as factorial of n (n!)\n",
        "  Example :\n",
        "  factorial(n = 5) --> 120\n",
        "  \"\"\"\n",
        "  fact = 1\n",
        "  for i in range(1,n+1):\n",
        "    fact*=i\n",
        "  return fact"
      ],
      "metadata": {
        "id": "zJReGeN3_JCm"
      },
      "execution_count": null,
      "outputs": []
    },
    {
      "cell_type": "code",
      "source": [
        "factorial(n =5)"
      ],
      "metadata": {
        "colab": {
          "base_uri": "https://localhost:8080/"
        },
        "id": "tmzDEP6f_I_w",
        "outputId": "0d7bc293-1c37-4ca8-80ff-9cdc06808ca1"
      },
      "execution_count": null,
      "outputs": [
        {
          "output_type": "execute_result",
          "data": {
            "text/plain": [
              "120"
            ]
          },
          "metadata": {},
          "execution_count": 83
        }
      ]
    },
    {
      "cell_type": "code",
      "source": [
        "print(factorial.__doc__) # Manual"
      ],
      "metadata": {
        "colab": {
          "base_uri": "https://localhost:8080/"
        },
        "id": "OW84NeN3_55W",
        "outputId": "6839431f-3658-4f74-e686-da4bff2f3ffb"
      },
      "execution_count": null,
      "outputs": [
        {
          "output_type": "stream",
          "name": "stdout",
          "text": [
            "\n",
            "  Input: Function expects the input as positive Integer\n",
            "  Output: Function will give the output as factorial of n (n!)\n",
            "  Example : \n",
            "  factorial(n = 5) --> 120\n",
            "  \n"
          ]
        }
      ]
    },
    {
      "cell_type": "code",
      "source": [
        "print(print.__doc__)"
      ],
      "metadata": {
        "colab": {
          "base_uri": "https://localhost:8080/"
        },
        "id": "3lkVCWGZnBr5",
        "outputId": "e29c9459-9eaa-4f58-8d6a-dcd778110048"
      },
      "execution_count": null,
      "outputs": [
        {
          "output_type": "stream",
          "name": "stdout",
          "text": [
            "print(value, ..., sep=' ', end='\\n', file=sys.stdout, flush=False)\n",
            "\n",
            "Prints the values to a stream, or to sys.stdout by default.\n",
            "Optional keyword arguments:\n",
            "file:  a file-like object (stream); defaults to the current sys.stdout.\n",
            "sep:   string inserted between values, default a space.\n",
            "end:   string appended after the last value, default a newline.\n",
            "flush: whether to forcibly flush the stream.\n"
          ]
        }
      ]
    },
    {
      "cell_type": "code",
      "source": [
        "print(sum.__doc__)"
      ],
      "metadata": {
        "colab": {
          "base_uri": "https://localhost:8080/"
        },
        "id": "5rqfjlGL6XZ6",
        "outputId": "f2fa1ecd-06b2-4a3d-b448-f2b2bc32f10e"
      },
      "execution_count": null,
      "outputs": [
        {
          "output_type": "stream",
          "name": "stdout",
          "text": [
            "Return the sum of a 'start' value (default: 0) plus an iterable of numbers\n",
            "\n",
            "When the iterable is empty, return the start value.\n",
            "This function is intended specifically for use with numeric values and may\n",
            "reject non-numeric types.\n"
          ]
        }
      ]
    },
    {
      "cell_type": "code",
      "source": [
        "print(type.__doc__)"
      ],
      "metadata": {
        "colab": {
          "base_uri": "https://localhost:8080/"
        },
        "id": "dGFGz60l6c97",
        "outputId": "36b969b0-4209-4951-aecd-e9c65f313f95"
      },
      "execution_count": null,
      "outputs": [
        {
          "output_type": "stream",
          "name": "stdout",
          "text": [
            "type(object) -> the object's type\n",
            "type(name, bases, dict, **kwds) -> a new type\n"
          ]
        }
      ]
    },
    {
      "cell_type": "code",
      "source": [
        "print(max.__doc__)"
      ],
      "metadata": {
        "colab": {
          "base_uri": "https://localhost:8080/"
        },
        "id": "itAHl2F3AL-W",
        "outputId": "fd060439-29dd-464a-e910-3d6442730eb6"
      },
      "execution_count": null,
      "outputs": [
        {
          "output_type": "stream",
          "name": "stdout",
          "text": [
            "max(iterable, *[, default=obj, key=func]) -> value\n",
            "max(arg1, arg2, *args, *[, key=func]) -> value\n",
            "\n",
            "With a single iterable argument, return its biggest item. The\n",
            "default keyword-only argument specifies an object to return if\n",
            "the provided iterable is empty.\n",
            "With two or more arguments, return the largest argument.\n"
          ]
        }
      ]
    },
    {
      "cell_type": "markdown",
      "source": [
        "#### pass"
      ],
      "metadata": {
        "id": "SO_t1fcvJCs8"
      }
    },
    {
      "cell_type": "code",
      "source": [
        "# Purpose: pass is used as a placeholder for a function that is not yet implemented."
      ],
      "metadata": {
        "id": "vRp4pNauJDvi"
      },
      "execution_count": null,
      "outputs": []
    },
    {
      "cell_type": "code",
      "source": [
        "def my_function():\n",
        "    pass"
      ],
      "metadata": {
        "id": "WVDf1K5NJLHw"
      },
      "execution_count": null,
      "outputs": []
    },
    {
      "cell_type": "code",
      "source": [
        "def add():\n",
        "  pass"
      ],
      "metadata": {
        "id": "g7YY7t4m7Dp-"
      },
      "execution_count": null,
      "outputs": []
    },
    {
      "cell_type": "code",
      "source": [
        "# Projects : Skeleton of Project : Pass\n",
        "def data_cleaning():\n",
        "  print('Data Cleaning Done!')\n",
        "\n",
        "def model_training():\n",
        "  print('Model Training Done!')\n",
        "\n",
        "def evaluation():\n",
        "  pass\n",
        "\n",
        "def parameter_tuning():\n",
        "  pass"
      ],
      "metadata": {
        "id": "0xMekOaDBFso"
      },
      "execution_count": null,
      "outputs": []
    },
    {
      "cell_type": "code",
      "source": [
        "data_cleaning()"
      ],
      "metadata": {
        "colab": {
          "base_uri": "https://localhost:8080/"
        },
        "id": "285kh6wd7P5T",
        "outputId": "b78f695c-8b23-4fe0-8f1d-3adaf6a3ba32"
      },
      "execution_count": null,
      "outputs": [
        {
          "output_type": "stream",
          "name": "stdout",
          "text": [
            "Data Cleaning Done!\n"
          ]
        }
      ]
    },
    {
      "cell_type": "code",
      "source": [
        "model_training()"
      ],
      "metadata": {
        "colab": {
          "base_uri": "https://localhost:8080/"
        },
        "id": "Hgcfha1-Bk13",
        "outputId": "a2bd85fa-12d4-43f9-97a8-3b9585dcdae6"
      },
      "execution_count": null,
      "outputs": [
        {
          "output_type": "stream",
          "name": "stdout",
          "text": [
            "Model Training Done!\n"
          ]
        }
      ]
    },
    {
      "cell_type": "markdown",
      "source": [
        "#### Variable-Length Arguments"
      ],
      "metadata": {
        "id": "P10KNvMQJTNu"
      }
    },
    {
      "cell_type": "code",
      "source": [
        "## (*args and **kwargs)\n",
        "# *args --> Values are stored in args variable as tuple\n",
        "# **kwargs --> Values are stored  in kwargs variable as dictionary\n",
        "\n",
        "# *x --> Values are stored in x variable as tuple\n",
        "# **y --> Values are stored  in y variable as dictionary"
      ],
      "metadata": {
        "id": "Iju6xGauJUNZ"
      },
      "execution_count": null,
      "outputs": []
    },
    {
      "cell_type": "code",
      "source": [
        "# *args: Allows you to pass a variable number of non-keyword arguments.\n",
        "\n",
        "def add(*c):\n",
        "  print(c)"
      ],
      "metadata": {
        "id": "LB_ZztVNJWsn"
      },
      "execution_count": null,
      "outputs": []
    },
    {
      "cell_type": "code",
      "source": [
        "add(2,3,4,5,6,8) # c = (2,3,4,5,6)"
      ],
      "metadata": {
        "id": "0bhDan_C9Cva",
        "colab": {
          "base_uri": "https://localhost:8080/"
        },
        "outputId": "edbf7466-0771-4a1f-9b71-85135a0d9f7b"
      },
      "execution_count": null,
      "outputs": [
        {
          "output_type": "stream",
          "name": "stdout",
          "text": [
            "(2, 3, 4, 5, 6, 8)\n"
          ]
        }
      ]
    },
    {
      "cell_type": "code",
      "source": [
        "def add(*c):\n",
        "  _total = 0\n",
        "  for i in c:\n",
        "    _total += i\n",
        "  return _total"
      ],
      "metadata": {
        "id": "fYsgxFX8CsRb"
      },
      "execution_count": null,
      "outputs": []
    },
    {
      "cell_type": "code",
      "source": [
        "add(2,3,4,5) # c = (2,3,4,5)"
      ],
      "metadata": {
        "colab": {
          "base_uri": "https://localhost:8080/"
        },
        "id": "ENLfPRqRCzud",
        "outputId": "c655f3e0-e6db-4af7-baf2-41114d3b1939"
      },
      "execution_count": null,
      "outputs": [
        {
          "output_type": "execute_result",
          "data": {
            "text/plain": [
              "14"
            ]
          },
          "metadata": {},
          "execution_count": 105
        }
      ]
    },
    {
      "cell_type": "code",
      "source": [
        "def length_of_string(*s):\n",
        "  for i in s: # s = ('hello', 'world', 'Data', 'Engineering')\n",
        "    print(f'Word {i} : {len(i)} Elements', end = '\\n')\n"
      ],
      "metadata": {
        "id": "5mZF8sOc-98T"
      },
      "execution_count": null,
      "outputs": []
    },
    {
      "cell_type": "code",
      "source": [
        "length_of_string('hello', 'world', 'Data', 'Engineering')"
      ],
      "metadata": {
        "colab": {
          "base_uri": "https://localhost:8080/"
        },
        "id": "BPEECTLF_OH-",
        "outputId": "dbc56f7f-40b3-4f1c-9495-bc63f3635302"
      },
      "execution_count": null,
      "outputs": [
        {
          "output_type": "stream",
          "name": "stdout",
          "text": [
            "Word hello : 5 Elements\n",
            "Word world : 5 Elements\n",
            "Word Data : 4 Elements\n",
            "Word Engineering : 11 Elements\n"
          ]
        }
      ]
    },
    {
      "cell_type": "code",
      "source": [
        "# *s : Variable s :  Stored as a tuple\n",
        "# **info : variable info : Store the data as dictionary"
      ],
      "metadata": {
        "id": "1TCfWtSiD4jj"
      },
      "execution_count": null,
      "outputs": []
    },
    {
      "cell_type": "code",
      "source": [
        "def person_info(**info): #\n",
        "  return info"
      ],
      "metadata": {
        "id": "977rOLvi_nZ9"
      },
      "execution_count": null,
      "outputs": []
    },
    {
      "cell_type": "code",
      "source": [
        "person_info(name = 'Alok', age = 30, place = 'Blr')\n",
        "# **Kwargs : Dictionary key: String"
      ],
      "metadata": {
        "colab": {
          "base_uri": "https://localhost:8080/"
        },
        "id": "oMx2yvri_4NR",
        "outputId": "c6486ec0-b700-4e81-c2ab-4823efa28ffb"
      },
      "execution_count": null,
      "outputs": [
        {
          "output_type": "execute_result",
          "data": {
            "text/plain": [
              "{'name': 'Alok', 'age': 30, 'place': 'Blr'}"
            ]
          },
          "metadata": {},
          "execution_count": 124
        }
      ]
    },
    {
      "cell_type": "code",
      "source": [
        "person_info(name = 'Vikas', age = 30, place = 'Blr', interest= 'Data Science')"
      ],
      "metadata": {
        "colab": {
          "base_uri": "https://localhost:8080/"
        },
        "id": "tjwJqQgPANVH",
        "outputId": "e5e26386-0e31-4165-9f96-47cc94581554"
      },
      "execution_count": null,
      "outputs": [
        {
          "output_type": "execute_result",
          "data": {
            "text/plain": [
              "{'name': 'Vikas', 'age': 30, 'place': 'Blr', 'interest': 'Data Science'}"
            ]
          },
          "metadata": {},
          "execution_count": 125
        }
      ]
    },
    {
      "cell_type": "code",
      "source": [
        "# **kwargs: Allows you to pass a variable number of keyword arguments.\n",
        "def print_pet_details(**kwargs):\n",
        "    for key, value in kwargs.items():\n",
        "        print(f\"{key}: {value}\")\n",
        "\n",
        "print_pet_details(name=\"Buddy\", type=\"dog\", age=5)\n",
        "# Output: name: Buddy\n",
        "#         type: dog\n",
        "#         age: 5\n"
      ],
      "metadata": {
        "id": "JoFIianAJb2D"
      },
      "execution_count": null,
      "outputs": []
    },
    {
      "cell_type": "code",
      "source": [
        "def person_details(name,age, city):\n",
        "  return (name,age,city)"
      ],
      "metadata": {
        "id": "DJn4byva9DLQ"
      },
      "execution_count": null,
      "outputs": []
    },
    {
      "cell_type": "code",
      "source": [
        "person_details(name = 'Alok', age = 30, city = 'Blr')"
      ],
      "metadata": {
        "colab": {
          "base_uri": "https://localhost:8080/"
        },
        "id": "Pn_U56EZAr0b",
        "outputId": "7cd11f60-d93a-4492-ca6b-ecc6834a2c5d"
      },
      "execution_count": null,
      "outputs": [
        {
          "output_type": "execute_result",
          "data": {
            "text/plain": [
              "('Alok', 30, 'Blr')"
            ]
          },
          "metadata": {},
          "execution_count": 127
        }
      ]
    },
    {
      "cell_type": "code",
      "source": [
        "person_details(name = 'Alok', age = 30, city = 'Blr', interest = 'DS')"
      ],
      "metadata": {
        "id": "bkpM4d2qBPuI",
        "colab": {
          "base_uri": "https://localhost:8080/",
          "height": 141
        },
        "outputId": "62d9f101-27b3-4393-9b2e-99a4c4cb32f6"
      },
      "execution_count": null,
      "outputs": [
        {
          "output_type": "error",
          "ename": "TypeError",
          "evalue": "person_details() got an unexpected keyword argument 'interest'",
          "traceback": [
            "\u001b[0;31m---------------------------------------------------------------------------\u001b[0m",
            "\u001b[0;31mTypeError\u001b[0m                                 Traceback (most recent call last)",
            "\u001b[0;32m<ipython-input-128-c1b52d607689>\u001b[0m in \u001b[0;36m<cell line: 1>\u001b[0;34m()\u001b[0m\n\u001b[0;32m----> 1\u001b[0;31m \u001b[0mperson_details\u001b[0m\u001b[0;34m(\u001b[0m\u001b[0mname\u001b[0m \u001b[0;34m=\u001b[0m \u001b[0;34m'Alok'\u001b[0m\u001b[0;34m,\u001b[0m \u001b[0mage\u001b[0m \u001b[0;34m=\u001b[0m \u001b[0;36m30\u001b[0m\u001b[0;34m,\u001b[0m \u001b[0mcity\u001b[0m \u001b[0;34m=\u001b[0m \u001b[0;34m'Blr'\u001b[0m\u001b[0;34m,\u001b[0m \u001b[0minterest\u001b[0m \u001b[0;34m=\u001b[0m \u001b[0;34m'DS'\u001b[0m\u001b[0;34m)\u001b[0m\u001b[0;34m\u001b[0m\u001b[0;34m\u001b[0m\u001b[0m\n\u001b[0m",
            "\u001b[0;31mTypeError\u001b[0m: person_details() got an unexpected keyword argument 'interest'"
          ]
        }
      ]
    },
    {
      "cell_type": "code",
      "source": [
        "def person_details(**d):\n",
        "  return d"
      ],
      "metadata": {
        "id": "-0nCWPTTFFny"
      },
      "execution_count": null,
      "outputs": []
    },
    {
      "cell_type": "code",
      "source": [
        "person_details(name = 'Alok', age = 30, city = 'Blr')"
      ],
      "metadata": {
        "colab": {
          "base_uri": "https://localhost:8080/"
        },
        "id": "7CXO51NhFKHh",
        "outputId": "9c882228-6ade-4c9b-c37a-26a684b58c36"
      },
      "execution_count": null,
      "outputs": [
        {
          "output_type": "execute_result",
          "data": {
            "text/plain": [
              "{'name': 'Alok', 'age': 30, 'city': 'Blr'}"
            ]
          },
          "metadata": {},
          "execution_count": 130
        }
      ]
    },
    {
      "cell_type": "code",
      "source": [
        "person_details(name = 'Alok', age = 30, city = 'Blr', interest = 'DS')"
      ],
      "metadata": {
        "colab": {
          "base_uri": "https://localhost:8080/"
        },
        "id": "OD_JrNljFL2t",
        "outputId": "02b5b6cc-b70b-4036-9358-07b6cfda67ba"
      },
      "execution_count": null,
      "outputs": [
        {
          "output_type": "execute_result",
          "data": {
            "text/plain": [
              "{'name': 'Alok', 'age': 30, 'city': 'Blr', 'interest': 'DS'}"
            ]
          },
          "metadata": {},
          "execution_count": 131
        }
      ]
    },
    {
      "cell_type": "code",
      "source": [
        "# Combination of args & Kwargs\n",
        "# First : Args , Kwargs\n",
        "def marks(*mark, **student_details ):\n",
        "  print(f'mark variable has stored {mark}')\n",
        "  print(f'student_details variable has stored {student_details}')\n",
        "\n",
        "\n"
      ],
      "metadata": {
        "id": "nIAJ-vxTFRMH"
      },
      "execution_count": null,
      "outputs": []
    },
    {
      "cell_type": "code",
      "source": [
        "marks(40,50,60,70,80,90,'a','b','c',d= 5,name= 'Alok', program = 'DS', Rank = 10)"
      ],
      "metadata": {
        "colab": {
          "base_uri": "https://localhost:8080/"
        },
        "id": "WiT0xKvJFpfm",
        "outputId": "0386b98d-e1f9-4c34-eac7-92784250edd8"
      },
      "execution_count": null,
      "outputs": [
        {
          "output_type": "stream",
          "name": "stdout",
          "text": [
            "mark variable has stored (40, 50, 60, 70, 80, 90, 'a', 'b', 'c')\n",
            "student_details variable has stored {'d': 5, 'name': 'Alok', 'program': 'DS', 'Rank': 10}\n"
          ]
        }
      ]
    },
    {
      "cell_type": "code",
      "source": [
        "# **kwargs\n",
        "\n",
        "def info(**i):\n",
        "  print(i)\n"
      ],
      "metadata": {
        "id": "oXm7gmEODaCn"
      },
      "execution_count": null,
      "outputs": []
    },
    {
      "cell_type": "code",
      "source": [
        "info(city = 'bengaluru', population = 10)"
      ],
      "metadata": {
        "colab": {
          "base_uri": "https://localhost:8080/"
        },
        "id": "MlAusu9FDkIr",
        "outputId": "64906cd7-57d4-432a-85dc-698adc330286"
      },
      "execution_count": null,
      "outputs": [
        {
          "output_type": "stream",
          "name": "stdout",
          "text": [
            "{'city': 'bengaluru', 'population': 10}\n"
          ]
        }
      ]
    },
    {
      "cell_type": "code",
      "source": [
        "info(city = 'bengaluru', population = 10, literacy_rate = 90)"
      ],
      "metadata": {
        "colab": {
          "base_uri": "https://localhost:8080/"
        },
        "id": "fYvzoMukDr6B",
        "outputId": "1e8f74f7-0377-4fe6-e57f-aa0b82817f1f"
      },
      "execution_count": null,
      "outputs": [
        {
          "output_type": "stream",
          "name": "stdout",
          "text": [
            "{'city': 'bengaluru', 'population': 10, 'literacy_rate': 90}\n"
          ]
        }
      ]
    },
    {
      "cell_type": "markdown",
      "source": [
        "#### Multiple return in Function"
      ],
      "metadata": {
        "id": "RCzyb0OSPKWq"
      }
    },
    {
      "cell_type": "code",
      "source": [
        "# Print with return\n",
        "def loop(n):\n",
        "  for i in range(n+1):\n",
        "    if i == 5:\n",
        "      return i # Execution of function is over.\n",
        "    print(i)"
      ],
      "metadata": {
        "id": "sfurZNmgCAkq"
      },
      "execution_count": null,
      "outputs": []
    },
    {
      "cell_type": "code",
      "source": [],
      "metadata": {
        "id": "QWHeqM3GG0hT"
      },
      "execution_count": null,
      "outputs": []
    },
    {
      "cell_type": "code",
      "source": [
        "loop(n = 10) # 0 to 4 : print , 5 : return"
      ],
      "metadata": {
        "colab": {
          "base_uri": "https://localhost:8080/"
        },
        "id": "G0ZMxMxJCOce",
        "outputId": "3a5c3c1c-1e2e-476d-b419-072eb0d8d7fd"
      },
      "execution_count": null,
      "outputs": [
        {
          "output_type": "stream",
          "name": "stdout",
          "text": [
            "0\n",
            "1\n",
            "2\n",
            "3\n",
            "4\n"
          ]
        },
        {
          "output_type": "execute_result",
          "data": {
            "text/plain": [
              "5"
            ]
          },
          "metadata": {},
          "execution_count": 139
        }
      ]
    },
    {
      "cell_type": "code",
      "source": [
        "a= loop(n=10)"
      ],
      "metadata": {
        "colab": {
          "base_uri": "https://localhost:8080/"
        },
        "id": "-FwQWbGRGz_p",
        "outputId": "9d1079c8-19d0-4d6d-9313-449ac30212dc"
      },
      "execution_count": null,
      "outputs": [
        {
          "output_type": "stream",
          "name": "stdout",
          "text": [
            "0\n",
            "1\n",
            "2\n",
            "3\n",
            "4\n"
          ]
        }
      ]
    },
    {
      "cell_type": "code",
      "source": [
        "print(a) # print : only display , return : value will be stored."
      ],
      "metadata": {
        "colab": {
          "base_uri": "https://localhost:8080/"
        },
        "id": "pcfY51XsG3EY",
        "outputId": "f2bcce01-87c8-4920-a264-0d0a607ebab3"
      },
      "execution_count": null,
      "outputs": [
        {
          "output_type": "stream",
          "name": "stdout",
          "text": [
            "5\n"
          ]
        }
      ]
    },
    {
      "cell_type": "code",
      "source": [
        "def loop(n):\n",
        "  for i in range(n): # [0,1,2,3,4,5...,9]\n",
        "    if i == 5: # True\n",
        "      print(i) #\n",
        "    print(i)"
      ],
      "metadata": {
        "id": "bO5lYDQ0D-LB"
      },
      "execution_count": null,
      "outputs": []
    },
    {
      "cell_type": "code",
      "source": [
        "# a is a variable\n",
        "a = loop(n = 10)"
      ],
      "metadata": {
        "colab": {
          "base_uri": "https://localhost:8080/"
        },
        "id": "k7mH2vuGC0VK",
        "outputId": "352c873a-c8da-4a1f-cd81-a1b60f31d8cd"
      },
      "execution_count": null,
      "outputs": [
        {
          "output_type": "stream",
          "name": "stdout",
          "text": [
            "0\n",
            "1\n",
            "2\n",
            "3\n",
            "4\n",
            "5\n",
            "5\n",
            "6\n",
            "7\n",
            "8\n",
            "9\n"
          ]
        }
      ]
    },
    {
      "cell_type": "code",
      "source": [
        "print(a)"
      ],
      "metadata": {
        "colab": {
          "base_uri": "https://localhost:8080/"
        },
        "id": "_9icCHbZDHQ4",
        "outputId": "72b1c13b-15c6-4061-fd06-be8bc9d56cad"
      },
      "execution_count": null,
      "outputs": [
        {
          "output_type": "stream",
          "name": "stdout",
          "text": [
            "None\n"
          ]
        }
      ]
    },
    {
      "cell_type": "code",
      "source": [
        "# return the first even number in the list, otherwise 'None'\n",
        "\n",
        "def first_even(lst):\n",
        "  for i in lst:\n",
        "    if i % 2==0:\n",
        "      return i\n",
        "  return 'None'\n",
        "\n",
        "lst = [3,6,7,8]\n",
        "first_even(lst)"
      ],
      "metadata": {
        "colab": {
          "base_uri": "https://localhost:8080/"
        },
        "id": "91FQ13ybEeaw",
        "outputId": "f370fa6e-7454-483d-f496-9bf9c5df8666"
      },
      "execution_count": null,
      "outputs": [
        {
          "output_type": "execute_result",
          "data": {
            "text/plain": [
              "6"
            ]
          },
          "metadata": {},
          "execution_count": 55
        }
      ]
    },
    {
      "cell_type": "code",
      "source": [
        "lst = [3,7,9,11,13]\n",
        "first_even(lst)"
      ],
      "metadata": {
        "colab": {
          "base_uri": "https://localhost:8080/",
          "height": 35
        },
        "id": "gEs9K9A9FBqL",
        "outputId": "bf86ea8f-bea9-49ac-cb51-5ba7165b29ea"
      },
      "execution_count": null,
      "outputs": [
        {
          "output_type": "execute_result",
          "data": {
            "text/plain": [
              "'None'"
            ],
            "application/vnd.google.colaboratory.intrinsic+json": {
              "type": "string"
            }
          },
          "metadata": {},
          "execution_count": 56
        }
      ]
    },
    {
      "cell_type": "code",
      "source": [
        "def till_n_even(lst,n):\n",
        "  _count = 0\n",
        "  _out = []\n",
        "  for i in lst:\n",
        "    if i % 2==0:\n",
        "      _count+=1\n",
        "      _out.append(i)\n",
        "    if  _count ==n:\n",
        "      return _out # return command is similar to break statement in for loop\n",
        "    return 'None'\n",
        "\n",
        "lst = [3,7,11,13]\n",
        "# [first_even(lst),second_even(lst)]\n",
        "till_n_even(lst,n =3)"
      ],
      "metadata": {
        "colab": {
          "base_uri": "https://localhost:8080/",
          "height": 35
        },
        "id": "pFX8nANHFNrv",
        "outputId": "827a007c-a5c2-471a-d717-a5d51a484ea8"
      },
      "execution_count": null,
      "outputs": [
        {
          "output_type": "execute_result",
          "data": {
            "text/plain": [
              "'None'"
            ],
            "application/vnd.google.colaboratory.intrinsic+json": {
              "type": "string"
            }
          },
          "metadata": {},
          "execution_count": 70
        }
      ]
    },
    {
      "cell_type": "code",
      "source": [
        "def add(a,b):\n",
        "  print(a+b)\n"
      ],
      "metadata": {
        "id": "ie_uwedNGlGt"
      },
      "execution_count": null,
      "outputs": []
    },
    {
      "cell_type": "code",
      "source": [
        "c = add(2,3)"
      ],
      "metadata": {
        "colab": {
          "base_uri": "https://localhost:8080/"
        },
        "id": "VIsDQmxkGnh9",
        "outputId": "e5f7e5a1-d398-4139-9c96-38d1d58bf36f"
      },
      "execution_count": null,
      "outputs": [
        {
          "output_type": "stream",
          "name": "stdout",
          "text": [
            "5\n"
          ]
        }
      ]
    },
    {
      "cell_type": "code",
      "source": [
        "print(c)"
      ],
      "metadata": {
        "colab": {
          "base_uri": "https://localhost:8080/"
        },
        "id": "sYZFDbfUGowb",
        "outputId": "de9a9628-1fde-4094-c29d-da2a55aaa8ec"
      },
      "execution_count": null,
      "outputs": [
        {
          "output_type": "stream",
          "name": "stdout",
          "text": [
            "None\n"
          ]
        }
      ]
    },
    {
      "cell_type": "code",
      "source": [
        "# print vs return :\n",
        "# print : Display the output\n",
        "# return :stores the value"
      ],
      "metadata": {
        "id": "d5gsDlA_EIJF"
      },
      "execution_count": null,
      "outputs": []
    },
    {
      "cell_type": "code",
      "source": [
        "# Once return is executed, then execution of function is done/over.\n",
        "# what break is for looping (for / while), return is for function : In terms of execution\n",
        "# Only values returned will be stored in variable"
      ],
      "metadata": {
        "id": "nS2ea-M6Coza"
      },
      "execution_count": null,
      "outputs": []
    },
    {
      "cell_type": "code",
      "source": [],
      "metadata": {
        "id": "BgNMBHdpDWhD"
      },
      "execution_count": null,
      "outputs": []
    },
    {
      "cell_type": "code",
      "source": [
        "def find(*l):\n",
        "  value = []\n",
        "  for i in l:\n",
        "    value.append(i**2)\n",
        "  return tuple(value)\n",
        "\n",
        "find(1,2,3,4,5,6,7,8,9) # value as tuple\n"
      ],
      "metadata": {
        "colab": {
          "base_uri": "https://localhost:8080/"
        },
        "id": "81B7ZNEkEhSd",
        "outputId": "6558af3d-944b-4f6f-e814-2526715c1690"
      },
      "execution_count": null,
      "outputs": [
        {
          "output_type": "execute_result",
          "data": {
            "text/plain": [
              "(1, 4, 9, 16, 25, 36, 49, 64, 81)"
            ]
          },
          "metadata": {},
          "execution_count": 86
        }
      ]
    },
    {
      "cell_type": "code",
      "source": [
        "# Prime numbers\n",
        "def prime_numbers(n):\n",
        "  prime_check = 'Prime'\n",
        "  for i in range(2,n):\n",
        "    if n % i ==0:\n",
        "      prime_check = 'Not Prime'\n",
        "      break\n",
        "  return prime_check\n",
        "\n"
      ],
      "metadata": {
        "id": "_MQjYgI0Owbh"
      },
      "execution_count": null,
      "outputs": []
    },
    {
      "cell_type": "code",
      "source": [
        "# Method to write the code\n",
        "def prime_numbers(n):\n",
        "  for i in range(2,n):\n",
        "    if n % i ==0:\n",
        "      return False\n",
        "  return True\n"
      ],
      "metadata": {
        "id": "DpDbKI5lHfLB"
      },
      "execution_count": null,
      "outputs": []
    },
    {
      "cell_type": "code",
      "source": [
        "# a = int(input())\n",
        "# b = int(input())\n",
        "# # All prime numbers in between a & b\n",
        "# list(filter(prime_numbers, range(a,b+1)))"
      ],
      "metadata": {
        "colab": {
          "base_uri": "https://localhost:8080/"
        },
        "id": "fPg1TNmRIlYU",
        "outputId": "d8cb0306-0c8a-4791-abed-61b97054885a"
      },
      "execution_count": null,
      "outputs": [
        {
          "name": "stdout",
          "output_type": "stream",
          "text": [
            "30\n",
            "50\n"
          ]
        },
        {
          "output_type": "execute_result",
          "data": {
            "text/plain": [
              "[31, 37, 41, 43, 47]"
            ]
          },
          "metadata": {},
          "execution_count": 102
        }
      ]
    },
    {
      "cell_type": "code",
      "source": [
        "prime_numbers(n = 15)\n",
        "# range(2,15) -->[2,3,4,....,14]\n",
        "# 15 % 2 == 0: False\n",
        "# 15 % 3 == 0: True | return 'Not prime' is executed | Function stops running"
      ],
      "metadata": {
        "colab": {
          "base_uri": "https://localhost:8080/",
          "height": 35
        },
        "id": "xERdi1qNHydH",
        "outputId": "3ef89ec6-2530-4524-9a19-295a4436a8ba"
      },
      "execution_count": null,
      "outputs": [
        {
          "output_type": "execute_result",
          "data": {
            "text/plain": [
              "'Not Prime'"
            ],
            "application/vnd.google.colaboratory.intrinsic+json": {
              "type": "string"
            }
          },
          "metadata": {},
          "execution_count": 98
        }
      ]
    },
    {
      "cell_type": "code",
      "source": [
        "prime_numbers(n = 7)\n",
        "# range(2,7) --[2,3,4,5,6]\n",
        "# 7 % 2 ==0: False\n",
        "# 7 % 3 == 0: False\n",
        "# 7 % 4 ==0: False\n",
        "# 7 % 5 == 0 : False\n",
        "# 7 % 6 == 0 : False\n",
        "# For loop iteration is over.\n",
        "# Finally it will return prime"
      ],
      "metadata": {
        "id": "hIEoXlBRIGwj"
      },
      "execution_count": null,
      "outputs": []
    },
    {
      "cell_type": "code",
      "source": [
        "# return will act as break."
      ],
      "metadata": {
        "id": "Dgsw_zPKHpkp"
      },
      "execution_count": null,
      "outputs": []
    },
    {
      "cell_type": "code",
      "source": [
        "prime_numbers(n = 3)"
      ],
      "metadata": {
        "colab": {
          "base_uri": "https://localhost:8080/",
          "height": 35
        },
        "id": "TOMLxXZyHZe8",
        "outputId": "2a2e0fa8-4c72-4abc-99e7-4418a288b579"
      },
      "execution_count": null,
      "outputs": [
        {
          "output_type": "execute_result",
          "data": {
            "text/plain": [
              "'Prime'"
            ],
            "application/vnd.google.colaboratory.intrinsic+json": {
              "type": "string"
            }
          },
          "metadata": {},
          "execution_count": 97
        }
      ]
    },
    {
      "cell_type": "code",
      "source": [
        "# For loop : code for prime numbers?\n",
        "n = int(input())\n",
        "prime_check = 'Prime'\n",
        "for i in range(2,n):\n",
        "  if n % i ==0:\n",
        "    prime_check = 'Not Prime'\n",
        "    break\n",
        "print(prime_check)"
      ],
      "metadata": {
        "colab": {
          "base_uri": "https://localhost:8080/"
        },
        "id": "n96Kmf7BFlGS",
        "outputId": "184668b6-39dc-4f07-898f-307c6f67b2bb"
      },
      "execution_count": null,
      "outputs": [
        {
          "output_type": "stream",
          "name": "stdout",
          "text": [
            "10\n",
            "Not Prime\n"
          ]
        }
      ]
    },
    {
      "cell_type": "markdown",
      "source": [
        "#### Practice"
      ],
      "metadata": {
        "id": "AZCcJxiNJoTZ"
      }
    },
    {
      "cell_type": "code",
      "source": [
        "# Question 1:\n",
        "'''\n",
        "Write a Python function called calculate_factorial that takes a single integer argument n and\n",
        "returns the factorial of that number. The factorial of a non-negative integer n is the product of\n",
        "all positive integers less than or equal to n. For example, the factorial of 5 (denoted as 5!) is\n",
        "5 * 4 * 3 * 2 * 1 = 120.\n",
        "If n is 0, the factorial should return 1, as 0! is defined to be 1.\n",
        "'''\n",
        "# Defining the function\n",
        "\n",
        "def calculate_factorial(n):\n",
        "  _fact = 1\n",
        "  for i in range(1,n+1): # range(6) --> [0,1,2,3,4,5]\n",
        "    _fact *= i # _fact = _fact * i\n",
        "\n",
        "  return _fact\n",
        "\n",
        "\n",
        "\n",
        "\n"
      ],
      "metadata": {
        "id": "Vy_NXb1GJpev"
      },
      "execution_count": null,
      "outputs": []
    },
    {
      "cell_type": "code",
      "source": [
        "# Using the function\n",
        "calculate_factorial(n = 0)"
      ],
      "metadata": {
        "colab": {
          "base_uri": "https://localhost:8080/"
        },
        "id": "-hXSrfHg3nE0",
        "outputId": "d0567a4e-328e-4304-ee4b-fd7c52aa526a"
      },
      "execution_count": null,
      "outputs": [
        {
          "output_type": "execute_result",
          "data": {
            "text/plain": [
              "1"
            ]
          },
          "metadata": {},
          "execution_count": 7
        }
      ]
    },
    {
      "cell_type": "code",
      "source": [
        "# Question 2 :\n",
        "'''\n",
        "Write a Python function called calculate_series_sum that calculates the sum of the following series up to n terms:\n",
        "\n",
        "1+ 1/2! + 1/3! + 1/4!....+ 1/n!\n",
        "Hint : Use calculate_factorial function create above\n",
        "\n",
        "'''\n",
        "def calculate_series_sum(n):\n",
        "  _sum = 0\n",
        "  for i in range(1, n+1):\n",
        "    _sum += 1/(calculate_factorial(i))\n",
        "\n",
        "  return _sum\n",
        "\n",
        "calculate_series_sum(n = 4)\n",
        "\n"
      ],
      "metadata": {
        "id": "-71bhVWtMO-z",
        "colab": {
          "base_uri": "https://localhost:8080/"
        },
        "outputId": "d2d82f6c-e9fb-4c41-cdd6-c21736313a1c"
      },
      "execution_count": null,
      "outputs": [
        {
          "output_type": "execute_result",
          "data": {
            "text/plain": [
              "1.7083333333333335"
            ]
          },
          "metadata": {},
          "execution_count": 9
        }
      ]
    },
    {
      "cell_type": "code",
      "source": [
        "# Without using the function\n",
        "# 1+ 1/2! + 1/3! .. 1/n!\n",
        "\n",
        "def calculate_series_sum(n):\n",
        "  _sum = 0\n",
        "  for i in range(1, n+1): # For every i, factorial has to be calculated\n",
        "    _fact = 1\n",
        "    for j in range(1,i+1):\n",
        "      _fact *= j\n",
        "\n",
        "    _sum += 1/_fact\n",
        "\n",
        "  return _sum\n"
      ],
      "metadata": {
        "id": "aFxQ7_kr5I-Z"
      },
      "execution_count": null,
      "outputs": []
    },
    {
      "cell_type": "code",
      "source": [
        "n = int(input())\n",
        "calculate_series_sum(n)"
      ],
      "metadata": {
        "colab": {
          "base_uri": "https://localhost:8080/"
        },
        "id": "gtOOGbLw5r77",
        "outputId": "45fea8dd-90c5-452f-c3e4-f81bbd4475aa"
      },
      "execution_count": null,
      "outputs": [
        {
          "output_type": "execute_result",
          "data": {
            "text/plain": [
              "1.7083333333333335"
            ]
          },
          "metadata": {},
          "execution_count": 11
        }
      ]
    },
    {
      "cell_type": "code",
      "source": [
        "# Question 3 :\n",
        "'''\n",
        "Calculate Permutation n , r = n!/(n-r)!\n",
        "and Combination n ,r = n!/(n-r)!/r!\n",
        "Taking n, r as an output\n",
        "'''\n",
        "\n",
        "def permutation(n,r):\n",
        "  return round(calculate_factorial(n)/calculate_factorial(n-r))\n",
        "\n",
        "\n",
        "def combination(n,r):\n",
        "  return round(calculate_factorial(n)/calculate_factorial(n-r)/calculate_factorial(r))\n",
        "\n",
        "# Use the function/ Call the function\n",
        "\n",
        "print(permutation(n =4,r=2))\n",
        "print(combination(n =4,r=2))"
      ],
      "metadata": {
        "id": "XgEcIxS4Mq8s",
        "colab": {
          "base_uri": "https://localhost:8080/"
        },
        "outputId": "fef4774e-2027-4ef4-f785-da1f798b6396"
      },
      "execution_count": null,
      "outputs": [
        {
          "output_type": "stream",
          "name": "stdout",
          "text": [
            "12\n",
            "6\n"
          ]
        }
      ]
    },
    {
      "cell_type": "code",
      "source": [
        "# Question 4 :\n",
        "'''\n",
        "Write a function list_pow takes in input as list and power as n,\n",
        "output as list and each element raised to power n\n",
        "input : [1,2,3,4] n = 2, Output: [1,4,9,16]\n",
        "\n",
        "'''\n",
        "\n",
        "# Defining the function\n",
        "\n",
        "def list_pow(lst, n):\n",
        "  _out = []\n",
        "  for i in lst:\n",
        "    _out.append(i**n)\n",
        "  return _out\n",
        "\n",
        "\n",
        "# using this function\n",
        "\n",
        "lst = [1,2,3,4,5]\n",
        "n = 3\n",
        "\n",
        "list_pow(lst, n)\n",
        "\n"
      ],
      "metadata": {
        "id": "tCUMAna2M6ck",
        "colab": {
          "base_uri": "https://localhost:8080/"
        },
        "outputId": "3eaa6806-809c-413f-d482-f02994f572ef"
      },
      "execution_count": null,
      "outputs": [
        {
          "output_type": "execute_result",
          "data": {
            "text/plain": [
              "[1, 8, 27, 64, 125]"
            ]
          },
          "metadata": {},
          "execution_count": 17
        }
      ]
    },
    {
      "cell_type": "code",
      "source": [
        "# * args\n",
        "def _pow(n, *lst):\n",
        "  _out = []\n",
        "  for i in lst:\n",
        "    _out.append(i**n)\n",
        "\n",
        "  return _out\n"
      ],
      "metadata": {
        "id": "pMqvW2Iq7Y_s"
      },
      "execution_count": null,
      "outputs": []
    },
    {
      "cell_type": "code",
      "source": [
        "_pow(2,3,4,5,6,7,8,9,10) # Why?"
      ],
      "metadata": {
        "colab": {
          "base_uri": "https://localhost:8080/"
        },
        "id": "5Aty8grC7q5S",
        "outputId": "f9ab3a1a-6817-459f-c6ab-3626bbd295d8"
      },
      "execution_count": null,
      "outputs": [
        {
          "output_type": "execute_result",
          "data": {
            "text/plain": [
              "[9, 16, 25, 36, 49, 64, 81, 100]"
            ]
          },
          "metadata": {},
          "execution_count": 21
        }
      ]
    },
    {
      "cell_type": "code",
      "source": [
        "# *args\n",
        "def add(*n):\n",
        "  # n is a tuple which stores all values\n",
        "  return sum(n)"
      ],
      "metadata": {
        "id": "7KD6tNFA8FdR"
      },
      "execution_count": null,
      "outputs": []
    },
    {
      "cell_type": "code",
      "source": [
        "add(2,3,4,5,6)"
      ],
      "metadata": {
        "colab": {
          "base_uri": "https://localhost:8080/"
        },
        "id": "kGSii0gu8uHz",
        "outputId": "663708db-c7a9-455d-fc30-70fc16123988"
      },
      "execution_count": null,
      "outputs": [
        {
          "output_type": "execute_result",
          "data": {
            "text/plain": [
              "20"
            ]
          },
          "metadata": {},
          "execution_count": 23
        }
      ]
    },
    {
      "cell_type": "code",
      "source": [
        "add(2,3,4,5,6,7)"
      ],
      "metadata": {
        "colab": {
          "base_uri": "https://localhost:8080/"
        },
        "id": "0EEjTYOq8ywr",
        "outputId": "cf264d54-d33d-433e-fac7-1c54cb619591"
      },
      "execution_count": null,
      "outputs": [
        {
          "output_type": "execute_result",
          "data": {
            "text/plain": [
              "27"
            ]
          },
          "metadata": {},
          "execution_count": 24
        }
      ]
    },
    {
      "cell_type": "code",
      "source": [
        "# Question 5 :\n",
        "'''\n",
        "Write a Python function called print_primes_between that prints all prime numbers between two integers a and b (inclusive).\n",
        "A prime number is a positive integer greater than 1 that has no positive integer divisors other than 1 and itself.\n",
        "\n",
        "print_primes_between(10, 20) should print:\n",
        "11\n",
        "13\n",
        "17\n",
        "19\n",
        "'''\n",
        "\n",
        "def print_primes_between(a,b):\n",
        "  for i in range(a,b+1): # Every i - to check if it is prime\n",
        "    _is_prime = True\n",
        "    for j in range(2,i): # 1 & itself have been excluded\n",
        "      if i%j ==0:\n",
        "        _is_prime = False\n",
        "        break\n",
        "\n",
        "    if _is_prime == True: # Boolean\n",
        "      print(i)\n",
        "\n",
        "\n",
        "\n",
        "print_primes_between(a=2,b=20)\n"
      ],
      "metadata": {
        "id": "thWXsDpiNGz-",
        "colab": {
          "base_uri": "https://localhost:8080/"
        },
        "outputId": "a4ed04c0-1a0e-44ec-9b55-dae01adf2f50"
      },
      "execution_count": null,
      "outputs": [
        {
          "output_type": "stream",
          "name": "stdout",
          "text": [
            "2\n",
            "3\n",
            "5\n",
            "7\n",
            "11\n",
            "13\n",
            "17\n",
            "19\n"
          ]
        }
      ]
    },
    {
      "cell_type": "code",
      "source": [
        "# Checking for prime number\n",
        "i = 6\n",
        "_is_prime = 'Yes'\n",
        "for j in range(2,i): # 1 & itself have been excluded # range(2,5) --> (2,3,4)\n",
        "  if i%j ==0:\n",
        "    _is_prime = 'No'\n",
        "    break\n",
        "\n",
        "print(_is_prime)"
      ],
      "metadata": {
        "id": "OpgZSoWvyEID",
        "colab": {
          "base_uri": "https://localhost:8080/"
        },
        "outputId": "cd1ab751-f346-4eff-d833-40910787eb22"
      },
      "execution_count": null,
      "outputs": [
        {
          "output_type": "stream",
          "name": "stdout",
          "text": [
            "No\n"
          ]
        }
      ]
    },
    {
      "cell_type": "code",
      "source": [
        "# Logic to check prime number\n",
        "n = int(input())\n",
        "_is_prime = 'Prime'\n",
        "for i in range(2,n):\n",
        "  if n%i == 0:\n",
        "    _is_prime = 'Not Prime'\n",
        "    break\n",
        "\n",
        "print(_is_prime)"
      ],
      "metadata": {
        "id": "hFe2IEaW-g7c"
      },
      "execution_count": null,
      "outputs": []
    },
    {
      "cell_type": "code",
      "source": [
        "def print_primes_between(a,b):\n",
        "  for i in range(a,b+1): # Every i - to check if it is prime\n",
        "    _is_prime = 'Prime'\n",
        "    for j in range(2,i):\n",
        "      if i%j == 0:\n",
        "        _is_prime = 'Not Prime'\n",
        "        break\n",
        "\n",
        "    if _is_prime == 'Prime': # Boolean\n",
        "      print(i)\n",
        "\n",
        "\n",
        "\n",
        "print_primes_between(a=2,b=20)"
      ],
      "metadata": {
        "colab": {
          "base_uri": "https://localhost:8080/"
        },
        "id": "9waKlF8C_fyk",
        "outputId": "38d20511-3904-45d0-a8f8-63d30f41758d"
      },
      "execution_count": null,
      "outputs": [
        {
          "output_type": "stream",
          "name": "stdout",
          "text": [
            "2\n",
            "3\n",
            "5\n",
            "7\n",
            "11\n",
            "13\n",
            "17\n",
            "19\n"
          ]
        }
      ]
    },
    {
      "cell_type": "code",
      "source": [
        "\n",
        "def prime_between(lower_limit,upper_limit):\n",
        "  for num in range(lower_limit, upper_limit + 1):\n",
        "      if num > 1:\n",
        "          for i in range(2, (num//2)+1):\n",
        "              if (num % i) == 0:\n",
        "                  break\n",
        "          else:\n",
        "              print(num)\n"
      ],
      "metadata": {
        "id": "IkfYFE7b_zlH"
      },
      "execution_count": null,
      "outputs": []
    },
    {
      "cell_type": "code",
      "source": [
        "lower_limit = int(input())\n",
        "upper_limit = int(input())\n",
        "prime_between(lower_limit,upper_limit)"
      ],
      "metadata": {
        "colab": {
          "base_uri": "https://localhost:8080/"
        },
        "id": "ZRGftEBP_8Wh",
        "outputId": "d5054d79-a4a3-401a-c353-0c15678097d2"
      },
      "execution_count": null,
      "outputs": [
        {
          "output_type": "stream",
          "name": "stdout",
          "text": [
            "10\n",
            "20\n",
            "11\n",
            "13\n",
            "17\n",
            "19\n"
          ]
        }
      ]
    },
    {
      "cell_type": "code",
      "source": [
        "def print_primes_between(a,b):\n",
        "  for i in range(a,b+1): # Every i - to check if it is prime\n",
        "    _is_prime = True\n",
        "    for j in range(2,i): # 1 & itself have been excluded\n",
        "      if i%j ==0:\n",
        "        _is_prime = False\n",
        "        break\n",
        "\n",
        "    if _is_prime == True: # Boolean\n",
        "      print(i)\n",
        "\n",
        "\n",
        "\n",
        "print_primes_between(a=2,b=20)"
      ],
      "metadata": {
        "id": "22cFnIAOAU0y"
      },
      "execution_count": null,
      "outputs": []
    },
    {
      "cell_type": "code",
      "source": [
        "# Whether any number is prime\n",
        "def isprime(n):\n",
        "  _is_prime = True\n",
        "  for i in range(2,n): # 1 & itself have been excluded\n",
        "    if n%i ==0:\n",
        "      _is_prime = False\n",
        "      break\n",
        "  return _is_prime"
      ],
      "metadata": {
        "id": "9SFyCyQoAzh-"
      },
      "execution_count": null,
      "outputs": []
    },
    {
      "cell_type": "code",
      "source": [
        "def print_primes_between(a,b):\n",
        "  for i in range(a,b+1): # range(10,21) --> 10,11,12....20.\n",
        "    if isprime(i) ==True: #\n",
        "      print(i)"
      ],
      "metadata": {
        "id": "VMq9JuPYA9Yq"
      },
      "execution_count": null,
      "outputs": []
    },
    {
      "cell_type": "code",
      "source": [
        "print_primes_between(a = 10,b=20)"
      ],
      "metadata": {
        "colab": {
          "base_uri": "https://localhost:8080/"
        },
        "id": "9k4zJolYA-2t",
        "outputId": "f838a66c-64d7-4458-8586-961d1dbf009f"
      },
      "execution_count": null,
      "outputs": [
        {
          "output_type": "stream",
          "name": "stdout",
          "text": [
            "11\n",
            "13\n",
            "17\n",
            "19\n"
          ]
        }
      ]
    },
    {
      "cell_type": "code",
      "source": [],
      "metadata": {
        "id": "SDZojGOcEAdG"
      },
      "execution_count": null,
      "outputs": []
    },
    {
      "cell_type": "code",
      "source": [
        "# Divide and Conquer\n",
        "# Coding -->\n",
        "# Write the logic for one element and generalise it for all others.\n",
        "\n",
        "# [15,23,45,67,89] # Even or odd\n",
        "\n",
        "def even_odd_check(n):\n",
        "  if n%2 ==0:\n",
        "    return f\"{n} : 'Even'\"\n",
        "  else:\n",
        "    return f\"{n} : 'Odd'\"\n",
        "\n",
        "lst = [15,23,45,67,89, 60]\n",
        "for i in lst:\n",
        "  print(even_odd_check(i))\n"
      ],
      "metadata": {
        "colab": {
          "base_uri": "https://localhost:8080/"
        },
        "id": "VZWUIEuzBKJS",
        "outputId": "6d1b40c6-6f6b-4200-e428-72256d12a063"
      },
      "execution_count": null,
      "outputs": [
        {
          "output_type": "stream",
          "name": "stdout",
          "text": [
            "15 : 'Odd'\n",
            "23 : 'Odd'\n",
            "45 : 'Odd'\n",
            "67 : 'Odd'\n",
            "89 : 'Odd'\n",
            "60 : 'Even'\n"
          ]
        }
      ]
    },
    {
      "cell_type": "code",
      "source": [
        "# .apply()\n",
        "# map()\n",
        "# filter()\n",
        "\n",
        "# name, email\n",
        "# Alok, xyz@alma.com\n",
        "# Shubham, abc@alma.com\n",
        "# .apply(lambda )"
      ],
      "metadata": {
        "id": "yQFaxa9fCYna"
      },
      "execution_count": null,
      "outputs": []
    },
    {
      "cell_type": "code",
      "source": [
        "'''\n",
        "n = 4\n",
        "\n",
        "Output\n",
        "\n",
        "4444\n",
        "4334\n",
        "4224\n",
        "4114\n",
        "4004\n",
        "'''\n",
        "\n",
        "\n"
      ],
      "metadata": {
        "colab": {
          "base_uri": "https://localhost:8080/"
        },
        "id": "DrCLcfvZIt6s",
        "outputId": "60dc76aa-ee8c-406d-a0b8-068e7441b167"
      },
      "execution_count": null,
      "outputs": [
        {
          "output_type": "stream",
          "name": "stdout",
          "text": [
            "4444\n",
            "4334\n",
            "4224\n",
            "4114\n",
            "4004\n"
          ]
        }
      ]
    },
    {
      "cell_type": "code",
      "source": [
        "n = 4\n",
        "for i in range(n,-1,-1):\n",
        "  print(f'{n}{i}{i}{n}')"
      ],
      "metadata": {
        "id": "aGzSZYiHJB_W",
        "outputId": "36fc49ee-5863-4498-c259-2acc75ed218a",
        "colab": {
          "base_uri": "https://localhost:8080/"
        }
      },
      "execution_count": null,
      "outputs": [
        {
          "output_type": "stream",
          "name": "stdout",
          "text": [
            "4444\n",
            "4334\n",
            "4224\n",
            "4114\n",
            "4004\n"
          ]
        }
      ]
    },
    {
      "cell_type": "code",
      "source": [],
      "metadata": {
        "id": "nPJw7ddBJ3DC"
      },
      "execution_count": null,
      "outputs": []
    }
  ]
}